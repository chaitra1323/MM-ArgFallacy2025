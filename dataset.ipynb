{
 "cells": [
  {
   "cell_type": "code",
   "execution_count": 11,
   "metadata": {},
   "outputs": [
    {
     "name": "stdout",
     "output_type": "stream",
     "text": [
      "Requirement already satisfied: mamkit in c:\\users\\waral\\appdata\\local\\programs\\python\\python312\\lib\\site-packages (0.1.0)\n",
      "INFO: pip is looking at multiple versions of mamkit to determine which version is compatible with other requirements. This could take a while.\n",
      "Collecting mamkit\n",
      "  Using cached mamkit-0.1.1-py3-none-any.whl.metadata (14 kB)\n",
      "Collecting numpy~=1.26.4 (from mamkit)\n",
      "  Using cached numpy-1.26.4-cp312-cp312-win_amd64.whl.metadata (61 kB)\n",
      "Collecting resampy==0.4.3 (from mamkit)\n",
      "  Using cached resampy-0.4.3-py3-none-any.whl.metadata (3.0 kB)\n",
      "Collecting scikit-image==0.19.2 (from mamkit)\n",
      "  Using cached scikit-image-0.19.2.tar.gz (22.2 MB)\n",
      "  Installing build dependencies: started\n",
      "  Installing build dependencies: finished with status 'done'\n",
      "  Getting requirements to build wheel: started\n",
      "  Getting requirements to build wheel: finished with status 'error'\n",
      "Note: you may need to restart the kernel to use updated packages.\n"
     ]
    },
    {
     "name": "stderr",
     "output_type": "stream",
     "text": [
      "  error: subprocess-exited-with-error\n",
      "  \n",
      "  × Getting requirements to build wheel did not run successfully.\n",
      "  │ exit code: 1\n",
      "  ╰─> [33 lines of output]\n",
      "      Traceback (most recent call last):\n",
      "        File \"c:\\Users\\waral\\AppData\\Local\\Programs\\Python\\Python312\\Lib\\site-packages\\pip\\_vendor\\pyproject_hooks\\_in_process\\_in_process.py\", line 389, in <module>\n",
      "          main()\n",
      "        File \"c:\\Users\\waral\\AppData\\Local\\Programs\\Python\\Python312\\Lib\\site-packages\\pip\\_vendor\\pyproject_hooks\\_in_process\\_in_process.py\", line 373, in main\n",
      "          json_out[\"return_val\"] = hook(**hook_input[\"kwargs\"])\n",
      "                                   ^^^^^^^^^^^^^^^^^^^^^^^^^^^^\n",
      "        File \"c:\\Users\\waral\\AppData\\Local\\Programs\\Python\\Python312\\Lib\\site-packages\\pip\\_vendor\\pyproject_hooks\\_in_process\\_in_process.py\", line 137, in get_requires_for_build_wheel\n",
      "          backend = _build_backend()\n",
      "                    ^^^^^^^^^^^^^^^^\n",
      "        File \"c:\\Users\\waral\\AppData\\Local\\Programs\\Python\\Python312\\Lib\\site-packages\\pip\\_vendor\\pyproject_hooks\\_in_process\\_in_process.py\", line 70, in _build_backend\n",
      "          obj = import_module(mod_path)\n",
      "                ^^^^^^^^^^^^^^^^^^^^^^^\n",
      "        File \"c:\\Users\\waral\\AppData\\Local\\Programs\\Python\\Python312\\Lib\\importlib\\__init__.py\", line 90, in import_module\n",
      "          return _bootstrap._gcd_import(name[level:], package, level)\n",
      "                 ^^^^^^^^^^^^^^^^^^^^^^^^^^^^^^^^^^^^^^^^^^^^^^^^^^^^\n",
      "        File \"<frozen importlib._bootstrap>\", line 1387, in _gcd_import\n",
      "        File \"<frozen importlib._bootstrap>\", line 1360, in _find_and_load\n",
      "        File \"<frozen importlib._bootstrap>\", line 1310, in _find_and_load_unlocked\n",
      "        File \"<frozen importlib._bootstrap>\", line 488, in _call_with_frames_removed\n",
      "        File \"<frozen importlib._bootstrap>\", line 1387, in _gcd_import\n",
      "        File \"<frozen importlib._bootstrap>\", line 1360, in _find_and_load\n",
      "        File \"<frozen importlib._bootstrap>\", line 1331, in _find_and_load_unlocked\n",
      "        File \"<frozen importlib._bootstrap>\", line 935, in _load_unlocked\n",
      "        File \"<frozen importlib._bootstrap_external>\", line 999, in exec_module\n",
      "        File \"<frozen importlib._bootstrap>\", line 488, in _call_with_frames_removed\n",
      "        File \"C:\\Users\\waral\\AppData\\Local\\Temp\\pip-build-env-nu0wzcrb\\overlay\\Lib\\site-packages\\setuptools\\__init__.py\", line 16, in <module>\n",
      "          import setuptools.version\n",
      "        File \"C:\\Users\\waral\\AppData\\Local\\Temp\\pip-build-env-nu0wzcrb\\overlay\\Lib\\site-packages\\setuptools\\version.py\", line 1, in <module>\n",
      "          import pkg_resources\n",
      "        File \"C:\\Users\\waral\\AppData\\Local\\Temp\\pip-build-env-nu0wzcrb\\overlay\\Lib\\site-packages\\pkg_resources\\__init__.py\", line 2172, in <module>\n",
      "          register_finder(pkgutil.ImpImporter, find_on_path)\n",
      "                          ^^^^^^^^^^^^^^^^^^^\n",
      "      AttributeError: module 'pkgutil' has no attribute 'ImpImporter'. Did you mean: 'zipimporter'?\n",
      "      [end of output]\n",
      "  \n",
      "  note: This error originates from a subprocess, and is likely not a problem with pip.\n",
      "error: subprocess-exited-with-error\n",
      "\n",
      "× Getting requirements to build wheel did not run successfully.\n",
      "│ exit code: 1\n",
      "╰─> See above for output.\n",
      "\n",
      "note: This error originates from a subprocess, and is likely not a problem with pip.\n"
     ]
    }
   ],
   "source": [
    "pip install mamkit\n"
   ]
  },
  {
   "cell_type": "code",
   "execution_count": 12,
   "metadata": {},
   "outputs": [],
   "source": [
    "from mamkit.data.datasets import MMUSEDFallacy, MMUSED, UKDebates, MArg, InputMode\n"
   ]
  },
  {
   "cell_type": "code",
   "execution_count": 19,
   "metadata": {},
   "outputs": [],
   "source": [
    "from pathlib import Path\n",
    "\n",
    "base_data_path = Path('data')\n"
   ]
  },
  {
   "cell_type": "markdown",
   "metadata": {},
   "source": [
    "# MM-USED-fallacy Dataset:"
   ]
  },
  {
   "cell_type": "code",
   "execution_count": 20,
   "metadata": {},
   "outputs": [
    {
     "name": "stderr",
     "output_type": "stream",
     "text": [
      "Downloading: https://zenodo.org/api/records/11179390/files-archive: 56.8MB [01:14, 799kB/s] \n",
      "  0%|          | 0/38 [00:00<?, ?it/s]"
     ]
    },
    {
     "name": "stdout",
     "output_type": "stream",
     "text": [
      "[youtube] Extracting URL: https://www.youtube.com/watch?v=_hEeMvhcNlE&t=4579s\n",
      "[youtube] _hEeMvhcNlE: Downloading webpage\n",
      "[youtube] _hEeMvhcNlE: Downloading tv client config\n",
      "[youtube] _hEeMvhcNlE: Downloading player 74e4bb46\n",
      "[youtube] _hEeMvhcNlE: Downloading tv player API JSON\n",
      "[youtube] _hEeMvhcNlE: Downloading ios player API JSON\n",
      "[youtube] _hEeMvhcNlE: Downloading m3u8 information\n",
      "[info] _hEeMvhcNlE: Downloading 1 format(s): 251\n",
      "[download] Destination: C:\\Users\\waral\\Desktop\\fyp\\MM-ArgFallacy2025\\data\\MMUSED-fallacy\\resources\\debates_audio_recordings\\30_2004\\full_audio\n",
      "[download] 100% of   79.80MiB in 00:00:03 at 25.17MiB/s    \n",
      "[ExtractAudio] Destination: C:\\Users\\waral\\Desktop\\fyp\\MM-ArgFallacy2025\\data\\MMUSED-fallacy\\resources\\debates_audio_recordings\\30_2004\\full_audio.wav\n",
      "Deleting original file C:\\Users\\waral\\Desktop\\fyp\\MM-ArgFallacy2025\\data\\MMUSED-fallacy\\resources\\debates_audio_recordings\\30_2004\\full_audio (pass -k to keep)\n"
     ]
    },
    {
     "name": "stderr",
     "output_type": "stream",
     "text": [
      "  3%|▎         | 1/38 [00:17<10:56, 17.73s/it]"
     ]
    },
    {
     "name": "stdout",
     "output_type": "stream",
     "text": [
      "[youtube] Extracting URL: https://www.youtube.com/watch?v=xdQK78l3Xhc&t=119s\n",
      "[youtube] xdQK78l3Xhc: Downloading webpage\n",
      "[youtube] xdQK78l3Xhc: Downloading tv client config\n",
      "[youtube] xdQK78l3Xhc: Downloading player 6b3caec8\n",
      "[youtube] xdQK78l3Xhc: Downloading tv player API JSON\n",
      "[youtube] xdQK78l3Xhc: Downloading ios player API JSON\n",
      "[youtube] xdQK78l3Xhc: Downloading m3u8 information\n",
      "[info] xdQK78l3Xhc: Downloading 1 format(s): 251\n",
      "[download] Destination: C:\\Users\\waral\\Desktop\\fyp\\MM-ArgFallacy2025\\data\\MMUSED-fallacy\\resources\\debates_audio_recordings\\5_1976\\full_audio\n",
      "[download] 100% of   82.12MiB in 00:00:04 at 17.96MiB/s    \n",
      "[ExtractAudio] Destination: C:\\Users\\waral\\Desktop\\fyp\\MM-ArgFallacy2025\\data\\MMUSED-fallacy\\resources\\debates_audio_recordings\\5_1976\\full_audio.wav\n",
      "Deleting original file C:\\Users\\waral\\Desktop\\fyp\\MM-ArgFallacy2025\\data\\MMUSED-fallacy\\resources\\debates_audio_recordings\\5_1976\\full_audio (pass -k to keep)\n"
     ]
    },
    {
     "name": "stderr",
     "output_type": "stream",
     "text": [
      "  5%|▌         | 2/38 [00:37<11:12, 18.68s/it]"
     ]
    },
    {
     "name": "stdout",
     "output_type": "stream",
     "text": [
      "[youtube] Extracting URL: https://www.youtube.com/watch?v=2SBiyLXto9s\n",
      "[youtube] 2SBiyLXto9s: Downloading webpage\n",
      "[youtube] 2SBiyLXto9s: Downloading tv client config\n",
      "[youtube] 2SBiyLXto9s: Downloading player 74e4bb46\n",
      "[youtube] 2SBiyLXto9s: Downloading tv player API JSON\n",
      "[youtube] 2SBiyLXto9s: Downloading ios player API JSON\n",
      "[youtube] 2SBiyLXto9s: Downloading m3u8 information\n",
      "[info] 2SBiyLXto9s: Downloading 1 format(s): 251\n",
      "[download] Destination: C:\\Users\\waral\\Desktop\\fyp\\MM-ArgFallacy2025\\data\\MMUSED-fallacy\\resources\\debates_audio_recordings\\24_1996\\full_audio\n",
      "[download] 100% of   62.60MiB in 00:00:03 at 19.15MiB/s    \n",
      "[ExtractAudio] Destination: C:\\Users\\waral\\Desktop\\fyp\\MM-ArgFallacy2025\\data\\MMUSED-fallacy\\resources\\debates_audio_recordings\\24_1996\\full_audio.wav\n",
      "Deleting original file C:\\Users\\waral\\Desktop\\fyp\\MM-ArgFallacy2025\\data\\MMUSED-fallacy\\resources\\debates_audio_recordings\\24_1996\\full_audio (pass -k to keep)\n"
     ]
    },
    {
     "name": "stderr",
     "output_type": "stream",
     "text": [
      "  8%|▊         | 3/38 [00:51<09:49, 16.85s/it]"
     ]
    },
    {
     "name": "stdout",
     "output_type": "stream",
     "text": [
      "[youtube] Extracting URL: https://www.youtube.com/watch?v=HZCcSTz1qLo\n",
      "[youtube] HZCcSTz1qLo: Downloading webpage\n",
      "[youtube] HZCcSTz1qLo: Downloading tv client config\n",
      "[youtube] HZCcSTz1qLo: Downloading player 74e4bb46\n",
      "[youtube] HZCcSTz1qLo: Downloading tv player API JSON\n",
      "[youtube] HZCcSTz1qLo: Downloading ios player API JSON\n",
      "[youtube] HZCcSTz1qLo: Downloading m3u8 information\n",
      "[info] HZCcSTz1qLo: Downloading 1 format(s): 251\n",
      "[download] Destination: C:\\Users\\waral\\Desktop\\fyp\\MM-ArgFallacy2025\\data\\MMUSED-fallacy\\resources\\debates_audio_recordings\\23_1996\\full_audio\n",
      "[download] 100% of   63.21MiB in 00:00:02 at 25.94MiB/s    \n",
      "[ExtractAudio] Destination: C:\\Users\\waral\\Desktop\\fyp\\MM-ArgFallacy2025\\data\\MMUSED-fallacy\\resources\\debates_audio_recordings\\23_1996\\full_audio.wav\n",
      "Deleting original file C:\\Users\\waral\\Desktop\\fyp\\MM-ArgFallacy2025\\data\\MMUSED-fallacy\\resources\\debates_audio_recordings\\23_1996\\full_audio (pass -k to keep)\n"
     ]
    },
    {
     "name": "stderr",
     "output_type": "stream",
     "text": [
      " 11%|█         | 4/38 [01:05<08:52, 15.67s/it]"
     ]
    },
    {
     "name": "stdout",
     "output_type": "stream",
     "text": [
      "[youtube] Extracting URL: https://www.youtube.com/watch?v=fj5A38gKHfk\n",
      "[youtube] fj5A38gKHfk: Downloading webpage\n",
      "[youtube] fj5A38gKHfk: Downloading tv client config\n",
      "[youtube] fj5A38gKHfk: Downloading player 74e4bb46\n",
      "[youtube] fj5A38gKHfk: Downloading tv player API JSON\n",
      "[youtube] fj5A38gKHfk: Downloading ios player API JSON\n",
      "[youtube] fj5A38gKHfk: Downloading m3u8 information\n",
      "[info] fj5A38gKHfk: Downloading 1 format(s): 251\n",
      "[download] Destination: C:\\Users\\waral\\Desktop\\fyp\\MM-ArgFallacy2025\\data\\MMUSED-fallacy\\resources\\debates_audio_recordings\\6_1976\\full_audio\n",
      "[download] 100% of   58.22MiB in 00:00:04 at 11.82MiB/s    \n",
      "[ExtractAudio] Destination: C:\\Users\\waral\\Desktop\\fyp\\MM-ArgFallacy2025\\data\\MMUSED-fallacy\\resources\\debates_audio_recordings\\6_1976\\full_audio.wav\n",
      "Deleting original file C:\\Users\\waral\\Desktop\\fyp\\MM-ArgFallacy2025\\data\\MMUSED-fallacy\\resources\\debates_audio_recordings\\6_1976\\full_audio (pass -k to keep)\n"
     ]
    },
    {
     "name": "stderr",
     "output_type": "stream",
     "text": [
      " 13%|█▎        | 5/38 [01:21<08:43, 15.86s/it]"
     ]
    },
    {
     "name": "stdout",
     "output_type": "stream",
     "text": [
      "[youtube] Extracting URL: https://www.youtube.com/watch?v=4b7NfEZWBzw\n",
      "[youtube] 4b7NfEZWBzw: Downloading webpage\n",
      "[youtube] 4b7NfEZWBzw: Downloading tv client config\n",
      "[youtube] 4b7NfEZWBzw: Downloading player 74e4bb46\n",
      "[youtube] 4b7NfEZWBzw: Downloading tv player API JSON\n",
      "[youtube] 4b7NfEZWBzw: Downloading ios player API JSON\n",
      "[youtube] 4b7NfEZWBzw: Downloading m3u8 information\n",
      "[info] 4b7NfEZWBzw: Downloading 1 format(s): 251\n",
      "[download] Destination: C:\\Users\\waral\\Desktop\\fyp\\MM-ArgFallacy2025\\data\\MMUSED-fallacy\\resources\\debates_audio_recordings\\33_2008\\full_audio\n",
      "[download] 100% of   76.60MiB in 00:00:02 at 27.26MiB/s    \n",
      "[ExtractAudio] Destination: C:\\Users\\waral\\Desktop\\fyp\\MM-ArgFallacy2025\\data\\MMUSED-fallacy\\resources\\debates_audio_recordings\\33_2008\\full_audio.wav\n",
      "Deleting original file C:\\Users\\waral\\Desktop\\fyp\\MM-ArgFallacy2025\\data\\MMUSED-fallacy\\resources\\debates_audio_recordings\\33_2008\\full_audio (pass -k to keep)\n"
     ]
    },
    {
     "name": "stderr",
     "output_type": "stream",
     "text": [
      " 16%|█▌        | 6/38 [01:38<08:33, 16.04s/it]"
     ]
    },
    {
     "name": "stdout",
     "output_type": "stream",
     "text": [
      "[youtube] Extracting URL: https://www.youtube.com/watch?v=4hurHlHQf2I\n",
      "[youtube] 4hurHlHQf2I: Downloading webpage\n",
      "[youtube] 4hurHlHQf2I: Downloading tv client config\n",
      "[youtube] 4hurHlHQf2I: Downloading player 74e4bb46\n",
      "[youtube] 4hurHlHQf2I: Downloading tv player API JSON\n",
      "[youtube] 4hurHlHQf2I: Downloading ios player API JSON\n",
      "[youtube] 4hurHlHQf2I: Downloading m3u8 information\n",
      "[info] 4hurHlHQf2I: Downloading 1 format(s): 251\n",
      "[download] Destination: C:\\Users\\waral\\Desktop\\fyp\\MM-ArgFallacy2025\\data\\MMUSED-fallacy\\resources\\debates_audio_recordings\\14_1988\\full_audio\n",
      "[download] 100% of   65.74MiB in 00:00:04 at 16.35MiB/s    \n",
      "[ExtractAudio] Destination: C:\\Users\\waral\\Desktop\\fyp\\MM-ArgFallacy2025\\data\\MMUSED-fallacy\\resources\\debates_audio_recordings\\14_1988\\full_audio.wav\n",
      "Deleting original file C:\\Users\\waral\\Desktop\\fyp\\MM-ArgFallacy2025\\data\\MMUSED-fallacy\\resources\\debates_audio_recordings\\14_1988\\full_audio (pass -k to keep)\n"
     ]
    },
    {
     "name": "stderr",
     "output_type": "stream",
     "text": [
      " 18%|█▊        | 7/38 [02:03<09:47, 18.96s/it]"
     ]
    },
    {
     "name": "stdout",
     "output_type": "stream",
     "text": [
      "[youtube] Extracting URL: https://www.youtube.com/watch?v=eOombKZSsj4\n",
      "[youtube] eOombKZSsj4: Downloading webpage\n",
      "[youtube] eOombKZSsj4: Downloading tv client config\n",
      "[youtube] eOombKZSsj4: Downloading player 74e4bb46\n",
      "[youtube] eOombKZSsj4: Downloading tv player API JSON\n",
      "[youtube] eOombKZSsj4: Downloading ios player API JSON\n",
      "[youtube] eOombKZSsj4: Downloading m3u8 information\n",
      "[info] eOombKZSsj4: Downloading 1 format(s): 251\n",
      "[download] Destination: C:\\Users\\waral\\Desktop\\fyp\\MM-ArgFallacy2025\\data\\MMUSED-fallacy\\resources\\debates_audio_recordings\\34_2008\\full_audio\n",
      "[download] 100% of   74.82MiB in 00:00:27 at 2.67MiB/s     \n",
      "[ExtractAudio] Destination: C:\\Users\\waral\\Desktop\\fyp\\MM-ArgFallacy2025\\data\\MMUSED-fallacy\\resources\\debates_audio_recordings\\34_2008\\full_audio.wav\n",
      "Deleting original file C:\\Users\\waral\\Desktop\\fyp\\MM-ArgFallacy2025\\data\\MMUSED-fallacy\\resources\\debates_audio_recordings\\34_2008\\full_audio (pass -k to keep)\n"
     ]
    },
    {
     "name": "stderr",
     "output_type": "stream",
     "text": [
      " 21%|██        | 8/38 [02:44<13:01, 26.06s/it]"
     ]
    },
    {
     "name": "stdout",
     "output_type": "stream",
     "text": [
      "[youtube] Extracting URL: https://www.youtube.com/watch?v=hCi4WHx3yDA&t=128s\n",
      "[youtube] hCi4WHx3yDA: Downloading webpage\n",
      "[youtube] hCi4WHx3yDA: Downloading tv client config\n",
      "[youtube] hCi4WHx3yDA: Downloading player 74e4bb46\n",
      "[youtube] hCi4WHx3yDA: Downloading tv player API JSON\n",
      "[youtube] hCi4WHx3yDA: Downloading ios player API JSON\n",
      "[youtube] hCi4WHx3yDA: Downloading m3u8 information\n",
      "[info] hCi4WHx3yDA: Downloading 1 format(s): 251\n",
      "[download] Destination: C:\\Users\\waral\\Desktop\\fyp\\MM-ArgFallacy2025\\data\\MMUSED-fallacy\\resources\\debates_audio_recordings\\40_2012\\full_audio\n",
      "[download] 100% of   76.27MiB in 00:00:16 at 4.75MiB/s     \n",
      "[ExtractAudio] Destination: C:\\Users\\waral\\Desktop\\fyp\\MM-ArgFallacy2025\\data\\MMUSED-fallacy\\resources\\debates_audio_recordings\\40_2012\\full_audio.wav\n",
      "Deleting original file C:\\Users\\waral\\Desktop\\fyp\\MM-ArgFallacy2025\\data\\MMUSED-fallacy\\resources\\debates_audio_recordings\\40_2012\\full_audio (pass -k to keep)\n"
     ]
    },
    {
     "name": "stderr",
     "output_type": "stream",
     "text": [
      " 24%|██▎       | 9/38 [03:21<14:11, 29.35s/it]"
     ]
    },
    {
     "name": "stdout",
     "output_type": "stream",
     "text": [
      "[youtube] Extracting URL: https://www.youtube.com/watch?v=vRQhXooojjY\n",
      "[youtube] vRQhXooojjY: Downloading webpage\n",
      "[youtube] vRQhXooojjY: Downloading tv client config\n",
      "[youtube] vRQhXooojjY: Downloading player 74e4bb46\n",
      "[youtube] vRQhXooojjY: Downloading tv player API JSON\n",
      "[youtube] vRQhXooojjY: Downloading ios player API JSON\n",
      "[youtube] vRQhXooojjY: Downloading m3u8 information\n",
      "[info] vRQhXooojjY: Downloading 1 format(s): 251\n",
      "[download] Destination: C:\\Users\\waral\\Desktop\\fyp\\MM-ArgFallacy2025\\data\\MMUSED-fallacy\\resources\\debates_audio_recordings\\36_2008\\full_audio\n",
      "[download] 100% of   68.41MiB in 00:00:07 at 9.24MiB/s     \n",
      "[ExtractAudio] Destination: C:\\Users\\waral\\Desktop\\fyp\\MM-ArgFallacy2025\\data\\MMUSED-fallacy\\resources\\debates_audio_recordings\\36_2008\\full_audio.wav\n",
      "Deleting original file C:\\Users\\waral\\Desktop\\fyp\\MM-ArgFallacy2025\\data\\MMUSED-fallacy\\resources\\debates_audio_recordings\\36_2008\\full_audio (pass -k to keep)\n"
     ]
    },
    {
     "name": "stderr",
     "output_type": "stream",
     "text": [
      " 26%|██▋       | 10/38 [03:41<12:26, 26.67s/it]"
     ]
    },
    {
     "name": "stdout",
     "output_type": "stream",
     "text": [
      "[youtube] Extracting URL: https://www.youtube.com/watch?v=fE61QJ3-GG8\n",
      "[youtube] fE61QJ3-GG8: Downloading webpage\n",
      "[youtube] fE61QJ3-GG8: Downloading tv client config\n",
      "[youtube] fE61QJ3-GG8: Downloading player 74e4bb46\n",
      "[youtube] fE61QJ3-GG8: Downloading tv player API JSON\n",
      "[youtube] fE61QJ3-GG8: Downloading ios player API JSON\n",
      "[youtube] fE61QJ3-GG8: Downloading m3u8 information\n",
      "[info] fE61QJ3-GG8: Downloading 1 format(s): 251\n",
      "[download] Destination: C:\\Users\\waral\\Desktop\\fyp\\MM-ArgFallacy2025\\data\\MMUSED-fallacy\\resources\\debates_audio_recordings\\2_1960\\full_audio\n",
      "[download] 100% of   51.12MiB in 00:00:08 at 5.91MiB/s     \n",
      "[ExtractAudio] Destination: C:\\Users\\waral\\Desktop\\fyp\\MM-ArgFallacy2025\\data\\MMUSED-fallacy\\resources\\debates_audio_recordings\\2_1960\\full_audio.wav\n",
      "Deleting original file C:\\Users\\waral\\Desktop\\fyp\\MM-ArgFallacy2025\\data\\MMUSED-fallacy\\resources\\debates_audio_recordings\\2_1960\\full_audio (pass -k to keep)\n"
     ]
    },
    {
     "name": "stderr",
     "output_type": "stream",
     "text": [
      " 29%|██▉       | 11/38 [04:00<10:52, 24.18s/it]"
     ]
    },
    {
     "name": "stdout",
     "output_type": "stream",
     "text": [
      "[youtube] Extracting URL: https://www.youtube.com/watch?v=fVj2llCwJtE\n",
      "[youtube] fVj2llCwJtE: Downloading webpage\n",
      "[youtube] fVj2llCwJtE: Downloading tv client config\n",
      "[youtube] fVj2llCwJtE: Downloading player 74e4bb46\n",
      "[youtube] fVj2llCwJtE: Downloading tv player API JSON\n",
      "[youtube] fVj2llCwJtE: Downloading ios player API JSON\n",
      "[youtube] fVj2llCwJtE: Downloading m3u8 information\n",
      "[info] fVj2llCwJtE: Downloading 1 format(s): 251\n",
      "[download] Destination: C:\\Users\\waral\\Desktop\\fyp\\MM-ArgFallacy2025\\data\\MMUSED-fallacy\\resources\\debates_audio_recordings\\8_1980\\full_audio\n",
      "[download] 100% of   40.99MiB in 00:00:01 at 24.91MiB/s    \n",
      "[ExtractAudio] Destination: C:\\Users\\waral\\Desktop\\fyp\\MM-ArgFallacy2025\\data\\MMUSED-fallacy\\resources\\debates_audio_recordings\\8_1980\\full_audio.wav\n",
      "Deleting original file C:\\Users\\waral\\Desktop\\fyp\\MM-ArgFallacy2025\\data\\MMUSED-fallacy\\resources\\debates_audio_recordings\\8_1980\\full_audio (pass -k to keep)\n"
     ]
    },
    {
     "name": "stderr",
     "output_type": "stream",
     "text": [
      " 32%|███▏      | 12/38 [04:14<09:10, 21.16s/it]"
     ]
    },
    {
     "name": "stdout",
     "output_type": "stream",
     "text": [
      "[youtube] Extracting URL: https://www.youtube.com/watch?v=V0ppjZvvgDU\n",
      "[youtube] V0ppjZvvgDU: Downloading webpage\n",
      "[youtube] V0ppjZvvgDU: Downloading tv client config\n",
      "[youtube] V0ppjZvvgDU: Downloading player 6b3caec8\n",
      "[youtube] V0ppjZvvgDU: Downloading tv player API JSON\n",
      "[youtube] V0ppjZvvgDU: Downloading ios player API JSON\n",
      "[youtube] V0ppjZvvgDU: Downloading m3u8 information\n",
      "[info] V0ppjZvvgDU: Downloading 1 format(s): 251\n",
      "[download] Destination: C:\\Users\\waral\\Desktop\\fyp\\MM-ArgFallacy2025\\data\\MMUSED-fallacy\\resources\\debates_audio_recordings\\35_2008\\full_audio\n",
      "[download] 100% of   75.30MiB in 00:00:09 at 7.82MiB/s     \n",
      "[ExtractAudio] Destination: C:\\Users\\waral\\Desktop\\fyp\\MM-ArgFallacy2025\\data\\MMUSED-fallacy\\resources\\debates_audio_recordings\\35_2008\\full_audio.wav\n",
      "Deleting original file C:\\Users\\waral\\Desktop\\fyp\\MM-ArgFallacy2025\\data\\MMUSED-fallacy\\resources\\debates_audio_recordings\\35_2008\\full_audio (pass -k to keep)\n"
     ]
    },
    {
     "name": "stderr",
     "output_type": "stream",
     "text": [
      " 34%|███▍      | 13/38 [04:39<09:18, 22.34s/it]"
     ]
    },
    {
     "name": "stdout",
     "output_type": "stream",
     "text": [
      "[youtube] Extracting URL: https://www.youtube.com/watch?v=5SbsCaRYW6w\n",
      "[youtube] 5SbsCaRYW6w: Downloading webpage\n",
      "[youtube] 5SbsCaRYW6w: Downloading tv client config\n",
      "[youtube] 5SbsCaRYW6w: Downloading player 6b3caec8\n",
      "[youtube] 5SbsCaRYW6w: Downloading tv player API JSON\n",
      "[youtube] 5SbsCaRYW6w: Downloading ios player API JSON\n",
      "[youtube] 5SbsCaRYW6w: Downloading m3u8 information\n",
      "[info] 5SbsCaRYW6w: Downloading 1 format(s): 251\n",
      "[download] Destination: C:\\Users\\waral\\Desktop\\fyp\\MM-ArgFallacy2025\\data\\MMUSED-fallacy\\resources\\debates_audio_recordings\\12_1984\\full_audio\n",
      "[download] 100% of   64.10MiB in 00:00:05 at 11.15MiB/s    \n",
      "[ExtractAudio] Destination: C:\\Users\\waral\\Desktop\\fyp\\MM-ArgFallacy2025\\data\\MMUSED-fallacy\\resources\\debates_audio_recordings\\12_1984\\full_audio.wav\n",
      "Deleting original file C:\\Users\\waral\\Desktop\\fyp\\MM-ArgFallacy2025\\data\\MMUSED-fallacy\\resources\\debates_audio_recordings\\12_1984\\full_audio (pass -k to keep)\n"
     ]
    },
    {
     "name": "stderr",
     "output_type": "stream",
     "text": [
      " 37%|███▋      | 14/38 [05:04<09:13, 23.08s/it]"
     ]
    },
    {
     "name": "stdout",
     "output_type": "stream",
     "text": [
      "[youtube] Extracting URL: https://www.youtube.com/watch?v=BIq_mW-nSnQ\n",
      "[youtube] BIq_mW-nSnQ: Downloading webpage\n",
      "[youtube] BIq_mW-nSnQ: Downloading tv client config\n",
      "[youtube] BIq_mW-nSnQ: Downloading player 74e4bb46\n",
      "[youtube] BIq_mW-nSnQ: Downloading tv player API JSON\n",
      "[youtube] BIq_mW-nSnQ: Downloading ios player API JSON\n",
      "[youtube] BIq_mW-nSnQ: Downloading m3u8 information\n",
      "[info] BIq_mW-nSnQ: Downloading 1 format(s): 251\n",
      "[download] Destination: C:\\Users\\waral\\Desktop\\fyp\\MM-ArgFallacy2025\\data\\MMUSED-fallacy\\resources\\debates_audio_recordings\\18_1992\\full_audio\n",
      "[download] 100% of   67.68MiB in 00:00:05 at 13.46MiB/s    \n",
      "[ExtractAudio] Destination: C:\\Users\\waral\\Desktop\\fyp\\MM-ArgFallacy2025\\data\\MMUSED-fallacy\\resources\\debates_audio_recordings\\18_1992\\full_audio.wav\n",
      "Deleting original file C:\\Users\\waral\\Desktop\\fyp\\MM-ArgFallacy2025\\data\\MMUSED-fallacy\\resources\\debates_audio_recordings\\18_1992\\full_audio (pass -k to keep)\n"
     ]
    },
    {
     "name": "stderr",
     "output_type": "stream",
     "text": [
      " 39%|███▉      | 15/38 [05:22<08:20, 21.74s/it]"
     ]
    },
    {
     "name": "stdout",
     "output_type": "stream",
     "text": [
      "[youtube] Extracting URL: https://www.youtube.com/watch?v=cIHRMoVKXb0\n",
      "[youtube] cIHRMoVKXb0: Downloading webpage\n",
      "[youtube] cIHRMoVKXb0: Downloading tv client config\n",
      "[youtube] cIHRMoVKXb0: Downloading player 74e4bb46\n",
      "[youtube] cIHRMoVKXb0: Downloading tv player API JSON\n",
      "[youtube] cIHRMoVKXb0: Downloading ios player API JSON\n",
      "[youtube] cIHRMoVKXb0: Downloading m3u8 information\n",
      "[info] cIHRMoVKXb0: Downloading 1 format(s): 251\n",
      "[download] Destination: C:\\Users\\waral\\Desktop\\fyp\\MM-ArgFallacy2025\\data\\MMUSED-fallacy\\resources\\debates_audio_recordings\\32_2004\\full_audio\n",
      "[download] 100% of   72.73MiB in 00:00:09 at 7.84MiB/s     \n",
      "[ExtractAudio] Destination: C:\\Users\\waral\\Desktop\\fyp\\MM-ArgFallacy2025\\data\\MMUSED-fallacy\\resources\\debates_audio_recordings\\32_2004\\full_audio.wav\n",
      "Deleting original file C:\\Users\\waral\\Desktop\\fyp\\MM-ArgFallacy2025\\data\\MMUSED-fallacy\\resources\\debates_audio_recordings\\32_2004\\full_audio (pass -k to keep)\n"
     ]
    },
    {
     "name": "stderr",
     "output_type": "stream",
     "text": [
      " 42%|████▏     | 16/38 [05:49<08:30, 23.20s/it]"
     ]
    },
    {
     "name": "stdout",
     "output_type": "stream",
     "text": [
      "[youtube] Extracting URL: https://www.youtube.com/watch?v=WYpP-T0IcyA\n",
      "[youtube] WYpP-T0IcyA: Downloading webpage\n",
      "[youtube] WYpP-T0IcyA: Downloading tv client config\n",
      "[youtube] WYpP-T0IcyA: Downloading player 6b3caec8\n",
      "[youtube] WYpP-T0IcyA: Downloading tv player API JSON\n",
      "[youtube] WYpP-T0IcyA: Downloading ios player API JSON\n",
      "[youtube] WYpP-T0IcyA: Downloading m3u8 information\n",
      "[info] WYpP-T0IcyA: Downloading 1 format(s): 251\n",
      "[download] Destination: C:\\Users\\waral\\Desktop\\fyp\\MM-ArgFallacy2025\\data\\MMUSED-fallacy\\resources\\debates_audio_recordings\\29_2004\\full_audio\n",
      "[download] 100% of   67.32MiB in 00:00:12 at 5.49MiB/s     \n",
      "[ExtractAudio] Destination: C:\\Users\\waral\\Desktop\\fyp\\MM-ArgFallacy2025\\data\\MMUSED-fallacy\\resources\\debates_audio_recordings\\29_2004\\full_audio.wav\n",
      "Deleting original file C:\\Users\\waral\\Desktop\\fyp\\MM-ArgFallacy2025\\data\\MMUSED-fallacy\\resources\\debates_audio_recordings\\29_2004\\full_audio (pass -k to keep)\n"
     ]
    },
    {
     "name": "stderr",
     "output_type": "stream",
     "text": [
      " 45%|████▍     | 17/38 [06:14<08:18, 23.75s/it]"
     ]
    },
    {
     "name": "stdout",
     "output_type": "stream",
     "text": [
      "[youtube] Extracting URL: https://www.youtube.com/watch?v=-9cdRpE4KKc&t=5s\n",
      "[youtube] -9cdRpE4KKc: Downloading webpage\n",
      "[youtube] -9cdRpE4KKc: Downloading tv client config\n",
      "[youtube] -9cdRpE4KKc: Downloading player 74e4bb46\n",
      "[youtube] -9cdRpE4KKc: Downloading tv player API JSON\n",
      "[youtube] -9cdRpE4KKc: Downloading ios player API JSON\n",
      "[youtube] -9cdRpE4KKc: Downloading m3u8 information\n",
      "[info] -9cdRpE4KKc: Downloading 1 format(s): 251\n",
      "[download] Destination: C:\\Users\\waral\\Desktop\\fyp\\MM-ArgFallacy2025\\data\\MMUSED-fallacy\\resources\\debates_audio_recordings\\4_1960\\full_audio\n",
      "[download] 100% of   46.32MiB in 00:00:01 at 28.89MiB/s    \n",
      "[ExtractAudio] Destination: C:\\Users\\waral\\Desktop\\fyp\\MM-ArgFallacy2025\\data\\MMUSED-fallacy\\resources\\debates_audio_recordings\\4_1960\\full_audio.wav\n",
      "Deleting original file C:\\Users\\waral\\Desktop\\fyp\\MM-ArgFallacy2025\\data\\MMUSED-fallacy\\resources\\debates_audio_recordings\\4_1960\\full_audio (pass -k to keep)\n"
     ]
    },
    {
     "name": "stderr",
     "output_type": "stream",
     "text": [
      " 47%|████▋     | 18/38 [06:26<06:40, 20.05s/it]"
     ]
    },
    {
     "name": "stdout",
     "output_type": "stream",
     "text": [
      "[youtube] Extracting URL: https://www.youtube.com/watch?v=ffnQaODsgD4&t=8s\n",
      "[youtube] ffnQaODsgD4: Downloading webpage\n",
      "[youtube] ffnQaODsgD4: Downloading tv client config\n",
      "[youtube] ffnQaODsgD4: Downloading player 74e4bb46\n",
      "[youtube] ffnQaODsgD4: Downloading tv player API JSON\n",
      "[youtube] ffnQaODsgD4: Downloading ios player API JSON\n",
      "[youtube] ffnQaODsgD4: Downloading m3u8 information\n",
      "[info] ffnQaODsgD4: Downloading 1 format(s): 251\n",
      "[download] Destination: C:\\Users\\waral\\Desktop\\fyp\\MM-ArgFallacy2025\\data\\MMUSED-fallacy\\resources\\debates_audio_recordings\\22_1996\\full_audio\n",
      "[download] 100% of   82.36MiB in 00:00:13 at 6.09MiB/s     \n",
      "[ExtractAudio] Destination: C:\\Users\\waral\\Desktop\\fyp\\MM-ArgFallacy2025\\data\\MMUSED-fallacy\\resources\\debates_audio_recordings\\22_1996\\full_audio.wav\n",
      "Deleting original file C:\\Users\\waral\\Desktop\\fyp\\MM-ArgFallacy2025\\data\\MMUSED-fallacy\\resources\\debates_audio_recordings\\22_1996\\full_audio (pass -k to keep)\n"
     ]
    },
    {
     "name": "stderr",
     "output_type": "stream",
     "text": [
      " 50%|█████     | 19/38 [06:54<07:07, 22.51s/it]"
     ]
    },
    {
     "name": "stdout",
     "output_type": "stream",
     "text": [
      "[youtube] Extracting URL: https://www.youtube.com/watch?v=ObDjMJdNGBw\n",
      "[youtube] ObDjMJdNGBw: Downloading webpage\n",
      "[youtube] ObDjMJdNGBw: Downloading tv client config\n",
      "[youtube] ObDjMJdNGBw: Downloading player 74e4bb46\n",
      "[youtube] ObDjMJdNGBw: Downloading tv player API JSON\n",
      "[youtube] ObDjMJdNGBw: Downloading ios player API JSON\n",
      "[youtube] ObDjMJdNGBw: Downloading m3u8 information\n",
      "[info] ObDjMJdNGBw: Downloading 1 format(s): 251\n",
      "[download] Destination: C:\\Users\\waral\\Desktop\\fyp\\MM-ArgFallacy2025\\data\\MMUSED-fallacy\\resources\\debates_audio_recordings\\10_1984\\full_audio\n",
      "[download] 100% of   69.22MiB in 00:00:09 at 7.49MiB/s     \n",
      "[ExtractAudio] Destination: C:\\Users\\waral\\Desktop\\fyp\\MM-ArgFallacy2025\\data\\MMUSED-fallacy\\resources\\debates_audio_recordings\\10_1984\\full_audio.wav\n",
      "Deleting original file C:\\Users\\waral\\Desktop\\fyp\\MM-ArgFallacy2025\\data\\MMUSED-fallacy\\resources\\debates_audio_recordings\\10_1984\\full_audio (pass -k to keep)\n"
     ]
    },
    {
     "name": "stderr",
     "output_type": "stream",
     "text": [
      " 53%|█████▎    | 20/38 [07:19<06:59, 23.28s/it]"
     ]
    },
    {
     "name": "stdout",
     "output_type": "stream",
     "text": [
      "[youtube] Extracting URL: https://www.youtube.com/watch?v=irzSo578gmg\n",
      "[youtube] irzSo578gmg: Downloading webpage\n",
      "[youtube] irzSo578gmg: Downloading tv client config\n",
      "[youtube] irzSo578gmg: Downloading player 74e4bb46\n",
      "[youtube] irzSo578gmg: Downloading tv player API JSON\n",
      "[youtube] irzSo578gmg: Downloading ios player API JSON\n",
      "[youtube] irzSo578gmg: Downloading m3u8 information\n",
      "[info] irzSo578gmg: Downloading 1 format(s): 251\n",
      "[download] Destination: C:\\Users\\waral\\Desktop\\fyp\\MM-ArgFallacy2025\\data\\MMUSED-fallacy\\resources\\debates_audio_recordings\\27_2000\\full_audio\n",
      "[download] 100% of   62.17MiB in 00:00:08 at 6.97MiB/s     \n",
      "[ExtractAudio] Destination: C:\\Users\\waral\\Desktop\\fyp\\MM-ArgFallacy2025\\data\\MMUSED-fallacy\\resources\\debates_audio_recordings\\27_2000\\full_audio.wav\n",
      "Deleting original file C:\\Users\\waral\\Desktop\\fyp\\MM-ArgFallacy2025\\data\\MMUSED-fallacy\\resources\\debates_audio_recordings\\27_2000\\full_audio (pass -k to keep)\n"
     ]
    },
    {
     "name": "stderr",
     "output_type": "stream",
     "text": [
      " 55%|█████▌    | 21/38 [07:49<07:08, 25.22s/it]"
     ]
    },
    {
     "name": "stdout",
     "output_type": "stream",
     "text": [
      "[youtube] Extracting URL: https://www.youtube.com/watch?v=jWo88Lr0rzw\n",
      "[youtube] jWo88Lr0rzw: Downloading webpage\n",
      "[youtube] jWo88Lr0rzw: Downloading tv client config\n",
      "[youtube] jWo88Lr0rzw: Downloading player 74e4bb46\n",
      "[youtube] jWo88Lr0rzw: Downloading tv player API JSON\n",
      "[youtube] jWo88Lr0rzw: Downloading ios player API JSON\n",
      "[youtube] jWo88Lr0rzw: Downloading m3u8 information\n",
      "[info] jWo88Lr0rzw: Downloading 1 format(s): 251\n",
      "[download] Destination: C:\\Users\\waral\\Desktop\\fyp\\MM-ArgFallacy2025\\data\\MMUSED-fallacy\\resources\\debates_audio_recordings\\16_1992\\full_audio\n",
      "[download] 100% of   67.78MiB in 00:00:02 at 25.67MiB/s    \n",
      "[ExtractAudio] Destination: C:\\Users\\waral\\Desktop\\fyp\\MM-ArgFallacy2025\\data\\MMUSED-fallacy\\resources\\debates_audio_recordings\\16_1992\\full_audio.wav\n",
      "Deleting original file C:\\Users\\waral\\Desktop\\fyp\\MM-ArgFallacy2025\\data\\MMUSED-fallacy\\resources\\debates_audio_recordings\\16_1992\\full_audio (pass -k to keep)\n"
     ]
    },
    {
     "name": "stderr",
     "output_type": "stream",
     "text": [
      " 58%|█████▊    | 22/38 [08:04<05:56, 22.28s/it]"
     ]
    },
    {
     "name": "stdout",
     "output_type": "stream",
     "text": [
      "[youtube] Extracting URL: https://www.youtube.com/watch?v=50WmNau8Pyw\n",
      "[youtube] 50WmNau8Pyw: Downloading webpage\n",
      "[youtube] 50WmNau8Pyw: Downloading tv client config\n",
      "[youtube] 50WmNau8Pyw: Downloading player 74e4bb46\n",
      "[youtube] 50WmNau8Pyw: Downloading tv player API JSON\n",
      "[youtube] 50WmNau8Pyw: Downloading ios player API JSON\n",
      "[youtube] 50WmNau8Pyw: Downloading m3u8 information\n",
      "[info] 50WmNau8Pyw: Downloading 1 format(s): 251\n",
      "[download] Destination: C:\\Users\\waral\\Desktop\\fyp\\MM-ArgFallacy2025\\data\\MMUSED-fallacy\\resources\\debates_audio_recordings\\7_1976\\full_audio\n",
      "[download] 100% of   64.03MiB in 00:00:08 at 7.54MiB/s     \n",
      "[ExtractAudio] Destination: C:\\Users\\waral\\Desktop\\fyp\\MM-ArgFallacy2025\\data\\MMUSED-fallacy\\resources\\debates_audio_recordings\\7_1976\\full_audio.wav\n",
      "Deleting original file C:\\Users\\waral\\Desktop\\fyp\\MM-ArgFallacy2025\\data\\MMUSED-fallacy\\resources\\debates_audio_recordings\\7_1976\\full_audio (pass -k to keep)\n"
     ]
    },
    {
     "name": "stderr",
     "output_type": "stream",
     "text": [
      " 61%|██████    | 23/38 [08:24<05:25, 21.71s/it]"
     ]
    },
    {
     "name": "stdout",
     "output_type": "stream",
     "text": [
      "[youtube] Extracting URL: https://www.youtube.com/watch?v=KfaBRyCKRhk&t=23s\n",
      "[youtube] KfaBRyCKRhk: Downloading webpage\n",
      "[youtube] KfaBRyCKRhk: Downloading tv client config\n",
      "[youtube] KfaBRyCKRhk: Downloading player 74e4bb46\n",
      "[youtube] KfaBRyCKRhk: Downloading tv player API JSON\n",
      "[youtube] KfaBRyCKRhk: Downloading ios player API JSON\n",
      "[youtube] KfaBRyCKRhk: Downloading m3u8 information\n",
      "[info] KfaBRyCKRhk: Downloading 1 format(s): 251\n",
      "[download] Destination: C:\\Users\\waral\\Desktop\\fyp\\MM-ArgFallacy2025\\data\\MMUSED-fallacy\\resources\\debates_audio_recordings\\37_2012\\full_audio\n",
      "[download] 100% of   76.73MiB in 00:00:04 at 18.73MiB/s    \n",
      "[ExtractAudio] Destination: C:\\Users\\waral\\Desktop\\fyp\\MM-ArgFallacy2025\\data\\MMUSED-fallacy\\resources\\debates_audio_recordings\\37_2012\\full_audio.wav\n",
      "Deleting original file C:\\Users\\waral\\Desktop\\fyp\\MM-ArgFallacy2025\\data\\MMUSED-fallacy\\resources\\debates_audio_recordings\\37_2012\\full_audio (pass -k to keep)\n"
     ]
    },
    {
     "name": "stderr",
     "output_type": "stream",
     "text": [
      " 63%|██████▎   | 24/38 [08:49<05:16, 22.59s/it]"
     ]
    },
    {
     "name": "stdout",
     "output_type": "stream",
     "text": [
      "[youtube] Extracting URL: https://www.youtube.com/watch?v=cm-UAfEdWg4\n",
      "[youtube] cm-UAfEdWg4: Downloading webpage\n",
      "[youtube] cm-UAfEdWg4: Downloading tv client config\n",
      "[youtube] cm-UAfEdWg4: Downloading player 74e4bb46\n",
      "[youtube] cm-UAfEdWg4: Downloading tv player API JSON\n",
      "[youtube] cm-UAfEdWg4: Downloading ios player API JSON\n",
      "[youtube] cm-UAfEdWg4: Downloading m3u8 information\n",
      "[info] cm-UAfEdWg4: Downloading 1 format(s): 251\n",
      "[download] Destination: C:\\Users\\waral\\Desktop\\fyp\\MM-ArgFallacy2025\\data\\MMUSED-fallacy\\resources\\debates_audio_recordings\\19_1992\\full_audio\n",
      "[download] 100% of   73.72MiB in 00:00:12 at 6.08MiB/s     \n",
      "[ExtractAudio] Destination: C:\\Users\\waral\\Desktop\\fyp\\MM-ArgFallacy2025\\data\\MMUSED-fallacy\\resources\\debates_audio_recordings\\19_1992\\full_audio.wav\n",
      "Deleting original file C:\\Users\\waral\\Desktop\\fyp\\MM-ArgFallacy2025\\data\\MMUSED-fallacy\\resources\\debates_audio_recordings\\19_1992\\full_audio (pass -k to keep)\n"
     ]
    },
    {
     "name": "stderr",
     "output_type": "stream",
     "text": [
      " 66%|██████▌   | 25/38 [09:21<05:31, 25.53s/it]"
     ]
    },
    {
     "name": "stdout",
     "output_type": "stream",
     "text": [
      "[youtube] Extracting URL: https://www.youtube.com/watch?v=HrHX9woYl5w\n",
      "[youtube] HrHX9woYl5w: Downloading webpage\n",
      "[youtube] HrHX9woYl5w: Downloading tv client config\n",
      "[youtube] HrHX9woYl5w: Downloading player 74e4bb46\n",
      "[youtube] HrHX9woYl5w: Downloading tv player API JSON\n",
      "[youtube] HrHX9woYl5w: Downloading ios player API JSON\n",
      "[youtube] HrHX9woYl5w: Downloading m3u8 information\n",
      "[info] HrHX9woYl5w: Downloading 1 format(s): 251\n",
      "[download] Destination: C:\\Users\\waral\\Desktop\\fyp\\MM-ArgFallacy2025\\data\\MMUSED-fallacy\\resources\\debates_audio_recordings\\26_2000\\full_audio\n",
      "[download] 100% of   70.72MiB in 00:00:03 at 19.30MiB/s    \n",
      "[ExtractAudio] Destination: C:\\Users\\waral\\Desktop\\fyp\\MM-ArgFallacy2025\\data\\MMUSED-fallacy\\resources\\debates_audio_recordings\\26_2000\\full_audio.wav\n",
      "Deleting original file C:\\Users\\waral\\Desktop\\fyp\\MM-ArgFallacy2025\\data\\MMUSED-fallacy\\resources\\debates_audio_recordings\\26_2000\\full_audio (pass -k to keep)\n"
     ]
    },
    {
     "name": "stderr",
     "output_type": "stream",
     "text": [
      " 68%|██████▊   | 26/38 [09:38<04:33, 22.83s/it]"
     ]
    },
    {
     "name": "stdout",
     "output_type": "stream",
     "text": [
      "[youtube] Extracting URL: https://www.youtube.com/watch?v=jhXgbrkFJ_s&t=12s\n",
      "[youtube] jhXgbrkFJ_s: Downloading webpage\n",
      "[youtube] jhXgbrkFJ_s: Downloading tv client config\n",
      "[youtube] jhXgbrkFJ_s: Downloading player 74e4bb46\n",
      "[youtube] jhXgbrkFJ_s: Downloading tv player API JSON\n",
      "[youtube] jhXgbrkFJ_s: Downloading ios player API JSON\n",
      "[youtube] jhXgbrkFJ_s: Downloading m3u8 information\n",
      "[info] jhXgbrkFJ_s: Downloading 1 format(s): 251\n",
      "[download] Destination: C:\\Users\\waral\\Desktop\\fyp\\MM-ArgFallacy2025\\data\\MMUSED-fallacy\\resources\\debates_audio_recordings\\39_2012\\full_audio\n",
      "[download] 100% of   78.79MiB in 00:00:03 at 26.23MiB/s    \n",
      "[ExtractAudio] Destination: C:\\Users\\waral\\Desktop\\fyp\\MM-ArgFallacy2025\\data\\MMUSED-fallacy\\resources\\debates_audio_recordings\\39_2012\\full_audio.wav\n",
      "Deleting original file C:\\Users\\waral\\Desktop\\fyp\\MM-ArgFallacy2025\\data\\MMUSED-fallacy\\resources\\debates_audio_recordings\\39_2012\\full_audio (pass -k to keep)\n"
     ]
    },
    {
     "name": "stderr",
     "output_type": "stream",
     "text": [
      " 71%|███████   | 27/38 [10:01<04:11, 22.82s/it]"
     ]
    },
    {
     "name": "stdout",
     "output_type": "stream",
     "text": [
      "[youtube] Extracting URL: https://www.youtube.com/watch?v=AYP8-oxq8ig&t=11s\n",
      "[youtube] AYP8-oxq8ig: Downloading webpage\n",
      "[youtube] AYP8-oxq8ig: Downloading tv client config\n",
      "[youtube] AYP8-oxq8ig: Downloading player 74e4bb46\n",
      "[youtube] AYP8-oxq8ig: Downloading tv player API JSON\n",
      "[youtube] AYP8-oxq8ig: Downloading ios player API JSON\n",
      "[youtube] AYP8-oxq8ig: Downloading m3u8 information\n",
      "[info] AYP8-oxq8ig: Downloading 1 format(s): 251\n",
      "[download] Destination: C:\\Users\\waral\\Desktop\\fyp\\MM-ArgFallacy2025\\data\\MMUSED-fallacy\\resources\\debates_audio_recordings\\1_1960\\full_audio\n",
      "[download] 100% of   38.99MiB in 00:00:02 at 13.77MiB/s    \n",
      "[ExtractAudio] Destination: C:\\Users\\waral\\Desktop\\fyp\\MM-ArgFallacy2025\\data\\MMUSED-fallacy\\resources\\debates_audio_recordings\\1_1960\\full_audio.wav\n",
      "Deleting original file C:\\Users\\waral\\Desktop\\fyp\\MM-ArgFallacy2025\\data\\MMUSED-fallacy\\resources\\debates_audio_recordings\\1_1960\\full_audio (pass -k to keep)\n"
     ]
    },
    {
     "name": "stderr",
     "output_type": "stream",
     "text": [
      " 74%|███████▎  | 28/38 [10:12<03:13, 19.33s/it]"
     ]
    },
    {
     "name": "stdout",
     "output_type": "stream",
     "text": [
      "[youtube] Extracting URL: https://www.youtube.com/watch?v=yYcdSwbrErI\n",
      "[youtube] yYcdSwbrErI: Downloading webpage\n",
      "[youtube] yYcdSwbrErI: Downloading tv client config\n",
      "[youtube] yYcdSwbrErI: Downloading player 74e4bb46\n",
      "[youtube] yYcdSwbrErI: Downloading tv player API JSON\n",
      "[youtube] yYcdSwbrErI: Downloading ios player API JSON\n",
      "[youtube] yYcdSwbrErI: Downloading m3u8 information\n",
      "[info] yYcdSwbrErI: Downloading 1 format(s): 251\n",
      "[download] Destination: C:\\Users\\waral\\Desktop\\fyp\\MM-ArgFallacy2025\\data\\MMUSED-fallacy\\resources\\debates_audio_recordings\\38_2012\\full_audio\n",
      "[download] 100% of   74.02MiB in 00:00:16 at 4.43MiB/s     \n",
      "[ExtractAudio] Destination: C:\\Users\\waral\\Desktop\\fyp\\MM-ArgFallacy2025\\data\\MMUSED-fallacy\\resources\\debates_audio_recordings\\38_2012\\full_audio.wav\n",
      "Deleting original file C:\\Users\\waral\\Desktop\\fyp\\MM-ArgFallacy2025\\data\\MMUSED-fallacy\\resources\\debates_audio_recordings\\38_2012\\full_audio (pass -k to keep)\n"
     ]
    },
    {
     "name": "stderr",
     "output_type": "stream",
     "text": [
      " 76%|███████▋  | 29/38 [10:42<03:22, 22.46s/it]"
     ]
    },
    {
     "name": "stdout",
     "output_type": "stream",
     "text": [
      "[youtube] Extracting URL: https://www.youtube.com/watch?v=uKDFcOfqGMQ\n",
      "[youtube] uKDFcOfqGMQ: Downloading webpage\n",
      "[youtube] uKDFcOfqGMQ: Downloading tv client config\n",
      "[youtube] uKDFcOfqGMQ: Downloading player 74e4bb46\n",
      "[youtube] uKDFcOfqGMQ: Downloading tv player API JSON\n",
      "[youtube] uKDFcOfqGMQ: Downloading ios player API JSON\n",
      "[youtube] uKDFcOfqGMQ: Downloading m3u8 information\n",
      "[info] uKDFcOfqGMQ: Downloading 1 format(s): 251\n",
      "[download] Destination: C:\\Users\\waral\\Desktop\\fyp\\MM-ArgFallacy2025\\data\\MMUSED-fallacy\\resources\\debates_audio_recordings\\28_2000\\full_audio\n",
      "[download] 100% of   66.71MiB in 00:00:02 at 25.75MiB/s    \n",
      "[ExtractAudio] Destination: C:\\Users\\waral\\Desktop\\fyp\\MM-ArgFallacy2025\\data\\MMUSED-fallacy\\resources\\debates_audio_recordings\\28_2000\\full_audio.wav\n",
      "Deleting original file C:\\Users\\waral\\Desktop\\fyp\\MM-ArgFallacy2025\\data\\MMUSED-fallacy\\resources\\debates_audio_recordings\\28_2000\\full_audio (pass -k to keep)\n"
     ]
    },
    {
     "name": "stderr",
     "output_type": "stream",
     "text": [
      " 79%|███████▉  | 30/38 [11:01<02:52, 21.62s/it]"
     ]
    },
    {
     "name": "stdout",
     "output_type": "stream",
     "text": [
      "[youtube] Extracting URL: https://www.youtube.com/watch?v=HwQBeMUj_ps\n",
      "[youtube] HwQBeMUj_ps: Downloading webpage\n",
      "[youtube] HwQBeMUj_ps: Downloading tv client config\n",
      "[youtube] HwQBeMUj_ps: Downloading player 74e4bb46\n",
      "[youtube] HwQBeMUj_ps: Downloading tv player API JSON\n",
      "[youtube] HwQBeMUj_ps: Downloading ios player API JSON\n",
      "[youtube] HwQBeMUj_ps: Downloading m3u8 information\n",
      "[info] HwQBeMUj_ps: Downloading 1 format(s): 251\n",
      "[download] Destination: C:\\Users\\waral\\Desktop\\fyp\\MM-ArgFallacy2025\\data\\MMUSED-fallacy\\resources\\debates_audio_recordings\\25_2000\\full_audio\n",
      "[download] 100% of   70.73MiB in 00:00:04 at 14.41MiB/s    \n",
      "[ExtractAudio] Destination: C:\\Users\\waral\\Desktop\\fyp\\MM-ArgFallacy2025\\data\\MMUSED-fallacy\\resources\\debates_audio_recordings\\25_2000\\full_audio.wav\n",
      "Deleting original file C:\\Users\\waral\\Desktop\\fyp\\MM-ArgFallacy2025\\data\\MMUSED-fallacy\\resources\\debates_audio_recordings\\25_2000\\full_audio (pass -k to keep)\n"
     ]
    },
    {
     "name": "stderr",
     "output_type": "stream",
     "text": [
      " 82%|████████▏ | 31/38 [11:23<02:31, 21.66s/it]"
     ]
    },
    {
     "name": "stdout",
     "output_type": "stream",
     "text": [
      "[youtube] Extracting URL: https://www.youtube.com/watch?v=_8YxFc_1b_0\n",
      "[youtube] _8YxFc_1b_0: Downloading webpage\n",
      "[youtube] _8YxFc_1b_0: Downloading tv client config\n",
      "[youtube] _8YxFc_1b_0: Downloading player 7d1d50a6\n",
      "[youtube] _8YxFc_1b_0: Downloading tv player API JSON\n",
      "[youtube] _8YxFc_1b_0: Downloading ios player API JSON\n",
      "[youtube] _8YxFc_1b_0: Downloading m3u8 information\n",
      "[info] _8YxFc_1b_0: Downloading 1 format(s): 251\n",
      "[download] Destination: C:\\Users\\waral\\Desktop\\fyp\\MM-ArgFallacy2025\\data\\MMUSED-fallacy\\resources\\debates_audio_recordings\\9_1980\\full_audio\n",
      "[download] 100% of   64.52MiB in 00:00:09 at 6.88MiB/s     \n",
      "[ExtractAudio] Destination: C:\\Users\\waral\\Desktop\\fyp\\MM-ArgFallacy2025\\data\\MMUSED-fallacy\\resources\\debates_audio_recordings\\9_1980\\full_audio.wav\n",
      "Deleting original file C:\\Users\\waral\\Desktop\\fyp\\MM-ArgFallacy2025\\data\\MMUSED-fallacy\\resources\\debates_audio_recordings\\9_1980\\full_audio (pass -k to keep)\n"
     ]
    },
    {
     "name": "stderr",
     "output_type": "stream",
     "text": [
      " 84%|████████▍ | 32/38 [11:46<02:11, 21.98s/it]"
     ]
    },
    {
     "name": "stdout",
     "output_type": "stream",
     "text": [
      "[youtube] Extracting URL: https://www.youtube.com/watch?v=eg7-QJrJZV0\n",
      "[youtube] eg7-QJrJZV0: Downloading webpage\n",
      "[youtube] eg7-QJrJZV0: Downloading tv client config\n",
      "[youtube] eg7-QJrJZV0: Downloading player 74e4bb46\n",
      "[youtube] eg7-QJrJZV0: Downloading tv player API JSON\n",
      "[youtube] eg7-QJrJZV0: Downloading ios player API JSON\n",
      "[youtube] eg7-QJrJZV0: Downloading m3u8 information\n",
      "[info] eg7-QJrJZV0: Downloading 1 format(s): 251\n",
      "[download] Destination: C:\\Users\\waral\\Desktop\\fyp\\MM-ArgFallacy2025\\data\\MMUSED-fallacy\\resources\\debates_audio_recordings\\21_1992\\full_audio\n",
      "[download] 100% of   65.37MiB in 00:00:03 at 19.21MiB/s    \n",
      "[ExtractAudio] Destination: C:\\Users\\waral\\Desktop\\fyp\\MM-ArgFallacy2025\\data\\MMUSED-fallacy\\resources\\debates_audio_recordings\\21_1992\\full_audio.wav\n",
      "Deleting original file C:\\Users\\waral\\Desktop\\fyp\\MM-ArgFallacy2025\\data\\MMUSED-fallacy\\resources\\debates_audio_recordings\\21_1992\\full_audio (pass -k to keep)\n"
     ]
    },
    {
     "name": "stderr",
     "output_type": "stream",
     "text": [
      " 87%|████████▋ | 33/38 [12:07<01:49, 21.81s/it]"
     ]
    },
    {
     "name": "stdout",
     "output_type": "stream",
     "text": [
      "[youtube] Extracting URL: https://www.youtube.com/watch?v=hHCUvx3tpnM\n",
      "[youtube] hHCUvx3tpnM: Downloading webpage\n",
      "[youtube] hHCUvx3tpnM: Downloading tv client config\n",
      "[youtube] hHCUvx3tpnM: Downloading player 74e4bb46\n",
      "[youtube] hHCUvx3tpnM: Downloading tv player API JSON\n",
      "[youtube] hHCUvx3tpnM: Downloading ios player API JSON\n",
      "[youtube] hHCUvx3tpnM: Downloading m3u8 information\n",
      "[info] hHCUvx3tpnM: Downloading 1 format(s): 251\n",
      "[download] Destination: C:\\Users\\waral\\Desktop\\fyp\\MM-ArgFallacy2025\\data\\MMUSED-fallacy\\resources\\debates_audio_recordings\\15_1988\\full_audio\n",
      "[download] 100% of   79.78MiB in 00:00:04 at 16.37MiB/s    \n",
      "[ExtractAudio] Destination: C:\\Users\\waral\\Desktop\\fyp\\MM-ArgFallacy2025\\data\\MMUSED-fallacy\\resources\\debates_audio_recordings\\15_1988\\full_audio.wav\n",
      "Deleting original file C:\\Users\\waral\\Desktop\\fyp\\MM-ArgFallacy2025\\data\\MMUSED-fallacy\\resources\\debates_audio_recordings\\15_1988\\full_audio (pass -k to keep)\n"
     ]
    },
    {
     "name": "stderr",
     "output_type": "stream",
     "text": [
      " 89%|████████▉ | 34/38 [12:29<01:27, 21.88s/it]"
     ]
    },
    {
     "name": "stdout",
     "output_type": "stream",
     "text": [
      "[youtube] Extracting URL: https://www.youtube.com/watch?v=eg7-QJrJZV0 \n",
      "[youtube] eg7-QJrJZV0: Downloading webpage\n",
      "[youtube] eg7-QJrJZV0: Downloading tv client config\n",
      "[youtube] eg7-QJrJZV0: Downloading player 74e4bb46\n",
      "[youtube] eg7-QJrJZV0: Downloading tv player API JSON\n",
      "[youtube] eg7-QJrJZV0: Downloading ios player API JSON\n",
      "[youtube] eg7-QJrJZV0: Downloading m3u8 information\n",
      "[info] eg7-QJrJZV0: Downloading 1 format(s): 251\n",
      "[download] Destination: C:\\Users\\waral\\Desktop\\fyp\\MM-ArgFallacy2025\\data\\MMUSED-fallacy\\resources\\debates_audio_recordings\\20_1992\\full_audio\n",
      "[download] 100% of   65.37MiB in 00:00:02 at 28.10MiB/s    \n",
      "[ExtractAudio] Destination: C:\\Users\\waral\\Desktop\\fyp\\MM-ArgFallacy2025\\data\\MMUSED-fallacy\\resources\\debates_audio_recordings\\20_1992\\full_audio.wav\n",
      "Deleting original file C:\\Users\\waral\\Desktop\\fyp\\MM-ArgFallacy2025\\data\\MMUSED-fallacy\\resources\\debates_audio_recordings\\20_1992\\full_audio (pass -k to keep)\n"
     ]
    },
    {
     "name": "stderr",
     "output_type": "stream",
     "text": [
      " 92%|█████████▏| 35/38 [12:49<01:03, 21.22s/it]"
     ]
    },
    {
     "name": "stdout",
     "output_type": "stream",
     "text": [
      "[youtube] Extracting URL: https://www.youtube.com/watch?v=OHjWb5XsAMI\n",
      "[youtube] OHjWb5XsAMI: Downloading webpage\n",
      "[youtube] OHjWb5XsAMI: Downloading tv client config\n",
      "[youtube] OHjWb5XsAMI: Downloading player 6b3caec8\n",
      "[youtube] OHjWb5XsAMI: Downloading tv player API JSON\n",
      "[youtube] OHjWb5XsAMI: Downloading ios player API JSON\n",
      "[youtube] OHjWb5XsAMI: Downloading m3u8 information\n",
      "[info] OHjWb5XsAMI: Downloading 1 format(s): 251\n",
      "[download] Destination: C:\\Users\\waral\\Desktop\\fyp\\MM-ArgFallacy2025\\data\\MMUSED-fallacy\\resources\\debates_audio_recordings\\3_1960\\full_audio\n",
      "[download] 100% of   42.84MiB in 00:00:06 at 6.97MiB/s     \n",
      "[ExtractAudio] Destination: C:\\Users\\waral\\Desktop\\fyp\\MM-ArgFallacy2025\\data\\MMUSED-fallacy\\resources\\debates_audio_recordings\\3_1960\\full_audio.wav\n",
      "Deleting original file C:\\Users\\waral\\Desktop\\fyp\\MM-ArgFallacy2025\\data\\MMUSED-fallacy\\resources\\debates_audio_recordings\\3_1960\\full_audio (pass -k to keep)\n"
     ]
    },
    {
     "name": "stderr",
     "output_type": "stream",
     "text": [
      " 95%|█████████▍| 36/38 [13:05<00:39, 19.73s/it]"
     ]
    },
    {
     "name": "stdout",
     "output_type": "stream",
     "text": [
      "[youtube] Extracting URL: https://www.youtube.com/watch?v=VMUsWsygJJM\n",
      "[youtube] VMUsWsygJJM: Downloading webpage\n",
      "[youtube] VMUsWsygJJM: Downloading tv client config\n",
      "[youtube] VMUsWsygJJM: Downloading player 74e4bb46\n",
      "[youtube] VMUsWsygJJM: Downloading tv player API JSON\n",
      "[youtube] VMUsWsygJJM: Downloading ios player API JSON\n",
      "[youtube] VMUsWsygJJM: Downloading m3u8 information\n",
      "[info] VMUsWsygJJM: Downloading 1 format(s): 251\n",
      "[download] Destination: C:\\Users\\waral\\Desktop\\fyp\\MM-ArgFallacy2025\\data\\MMUSED-fallacy\\resources\\debates_audio_recordings\\11_1984\\full_audio\n",
      "[download] 100% of   66.58MiB in 00:00:13 at 4.85MiB/s     \n",
      "[ExtractAudio] Destination: C:\\Users\\waral\\Desktop\\fyp\\MM-ArgFallacy2025\\data\\MMUSED-fallacy\\resources\\debates_audio_recordings\\11_1984\\full_audio.wav\n",
      "Deleting original file C:\\Users\\waral\\Desktop\\fyp\\MM-ArgFallacy2025\\data\\MMUSED-fallacy\\resources\\debates_audio_recordings\\11_1984\\full_audio (pass -k to keep)\n"
     ]
    },
    {
     "name": "stderr",
     "output_type": "stream",
     "text": [
      " 97%|█████████▋| 37/38 [13:34<00:22, 22.39s/it]"
     ]
    },
    {
     "name": "stdout",
     "output_type": "stream",
     "text": [
      "[youtube] Extracting URL: https://www.youtube.com/watch?v=cKcav-uF4eY\n",
      "[youtube] cKcav-uF4eY: Downloading webpage\n",
      "[youtube] cKcav-uF4eY: Downloading tv client config\n",
      "[youtube] cKcav-uF4eY: Downloading player 6b3caec8\n",
      "[youtube] cKcav-uF4eY: Downloading tv player API JSON\n",
      "[youtube] cKcav-uF4eY: Downloading ios player API JSON\n",
      "[youtube] cKcav-uF4eY: Downloading m3u8 information\n",
      "[info] cKcav-uF4eY: Downloading 1 format(s): 251\n",
      "[download] Destination: C:\\Users\\waral\\Desktop\\fyp\\MM-ArgFallacy2025\\data\\MMUSED-fallacy\\resources\\debates_audio_recordings\\31_2004\\full_audio\n",
      "[download] 100% of   74.29MiB in 00:00:04 at 16.82MiB/s    \n",
      "[ExtractAudio] Destination: C:\\Users\\waral\\Desktop\\fyp\\MM-ArgFallacy2025\\data\\MMUSED-fallacy\\resources\\debates_audio_recordings\\31_2004\\full_audio.wav\n",
      "Deleting original file C:\\Users\\waral\\Desktop\\fyp\\MM-ArgFallacy2025\\data\\MMUSED-fallacy\\resources\\debates_audio_recordings\\31_2004\\full_audio (pass -k to keep)\n"
     ]
    },
    {
     "name": "stderr",
     "output_type": "stream",
     "text": [
      "100%|██████████| 38/38 [13:52<00:00, 21.91s/it]\n",
      "100%|██████████| 28/28 [02:59<00:00,  6.41s/it]\n",
      "100%|██████████| 28/28 [00:57<00:00,  2.04s/it]\n",
      "Downloading: https://raw.githubusercontent.com/lt-nlp-lab-unibo/multimodal-am-fallacy/main/local_database/MM-DatasetFallacies/no_duplicates/dataset.csv: 100%|██████████| 2.40M/2.40M [00:00<00:00, 8.12MB/s]\n"
     ]
    }
   ],
   "source": [
    "mm_used_fallacy_loader = MMUSEDFallacy(\n",
    "    task_name='afc',  # Choose between 'afc' (argumentative fallacy classification) or 'afd' (argumentative fallacy detection)\n",
    "    input_mode=InputMode.TEXT_AUDIO, \n",
    "    base_data_path=base_data_path\n",
    ")\n"
   ]
  },
  {
   "cell_type": "markdown",
   "metadata": {},
   "source": [
    "# MM-USED Dataset:\n",
    "\n",
    "\n"
   ]
  },
  {
   "cell_type": "code",
   "execution_count": 21,
   "metadata": {},
   "outputs": [
    {
     "name": "stderr",
     "output_type": "stream",
     "text": [
      "Downloading: https://zenodo.org/api/records/11179380/files-archive: 21.5MB [00:02, 7.65MB/s]\n",
      "  0%|          | 0/38 [00:00<?, ?it/s]"
     ]
    },
    {
     "name": "stdout",
     "output_type": "stream",
     "text": [
      "[youtube] Extracting URL: https://www.youtube.com/watch?v=_hEeMvhcNlE&t=4579s\n",
      "[youtube] _hEeMvhcNlE: Downloading webpage\n",
      "[youtube] _hEeMvhcNlE: Downloading tv client config\n",
      "[youtube] _hEeMvhcNlE: Downloading player 74e4bb46\n",
      "[youtube] _hEeMvhcNlE: Downloading tv player API JSON\n",
      "[youtube] _hEeMvhcNlE: Downloading ios player API JSON\n",
      "[youtube] _hEeMvhcNlE: Downloading m3u8 information\n",
      "[info] _hEeMvhcNlE: Downloading 1 format(s): 251\n",
      "[download] Destination: C:\\Users\\waral\\Desktop\\fyp\\MM-ArgFallacy2025\\data\\MMUSED\\files\\debates_audio_recordings\\30_2004\\full_audio\n",
      "[download] 100% of   79.80MiB in 00:00:03 at 25.88MiB/s    \n",
      "[ExtractAudio] Destination: C:\\Users\\waral\\Desktop\\fyp\\MM-ArgFallacy2025\\data\\MMUSED\\files\\debates_audio_recordings\\30_2004\\full_audio.wav\n",
      "Deleting original file C:\\Users\\waral\\Desktop\\fyp\\MM-ArgFallacy2025\\data\\MMUSED\\files\\debates_audio_recordings\\30_2004\\full_audio (pass -k to keep)\n"
     ]
    },
    {
     "name": "stderr",
     "output_type": "stream",
     "text": [
      "  3%|▎         | 1/38 [00:16<09:59, 16.21s/it]"
     ]
    },
    {
     "name": "stdout",
     "output_type": "stream",
     "text": [
      "[youtube] Extracting URL: https://www.youtube.com/watch?v=xdQK78l3Xhc&t=119s\n",
      "[youtube] xdQK78l3Xhc: Downloading webpage\n",
      "[youtube] xdQK78l3Xhc: Downloading tv client config\n",
      "[youtube] xdQK78l3Xhc: Downloading player 74e4bb46\n",
      "[youtube] xdQK78l3Xhc: Downloading tv player API JSON\n",
      "[youtube] xdQK78l3Xhc: Downloading ios player API JSON\n",
      "[youtube] xdQK78l3Xhc: Downloading m3u8 information\n",
      "[info] xdQK78l3Xhc: Downloading 1 format(s): 251\n",
      "[download] Destination: C:\\Users\\waral\\Desktop\\fyp\\MM-ArgFallacy2025\\data\\MMUSED\\files\\debates_audio_recordings\\5_1976\\full_audio\n",
      "[download] 100% of   82.12MiB in 00:00:03 at 26.07MiB/s    \n",
      "[ExtractAudio] Destination: C:\\Users\\waral\\Desktop\\fyp\\MM-ArgFallacy2025\\data\\MMUSED\\files\\debates_audio_recordings\\5_1976\\full_audio.wav\n",
      "Deleting original file C:\\Users\\waral\\Desktop\\fyp\\MM-ArgFallacy2025\\data\\MMUSED\\files\\debates_audio_recordings\\5_1976\\full_audio (pass -k to keep)\n"
     ]
    },
    {
     "name": "stderr",
     "output_type": "stream",
     "text": [
      "  5%|▌         | 2/38 [00:33<09:57, 16.60s/it]"
     ]
    },
    {
     "name": "stdout",
     "output_type": "stream",
     "text": [
      "[youtube] Extracting URL: https://www.youtube.com/watch?v=2SBiyLXto9s\n",
      "[youtube] 2SBiyLXto9s: Downloading webpage\n",
      "[youtube] 2SBiyLXto9s: Downloading tv client config\n",
      "[youtube] 2SBiyLXto9s: Downloading player 74e4bb46\n",
      "[youtube] 2SBiyLXto9s: Downloading tv player API JSON\n",
      "[youtube] 2SBiyLXto9s: Downloading ios player API JSON\n",
      "[youtube] 2SBiyLXto9s: Downloading m3u8 information\n",
      "[info] 2SBiyLXto9s: Downloading 1 format(s): 251\n",
      "[download] Destination: C:\\Users\\waral\\Desktop\\fyp\\MM-ArgFallacy2025\\data\\MMUSED\\files\\debates_audio_recordings\\24_1996\\full_audio\n",
      "[download] 100% of   62.60MiB in 00:00:02 at 26.19MiB/s    \n",
      "[ExtractAudio] Destination: C:\\Users\\waral\\Desktop\\fyp\\MM-ArgFallacy2025\\data\\MMUSED\\files\\debates_audio_recordings\\24_1996\\full_audio.wav\n",
      "Deleting original file C:\\Users\\waral\\Desktop\\fyp\\MM-ArgFallacy2025\\data\\MMUSED\\files\\debates_audio_recordings\\24_1996\\full_audio (pass -k to keep)\n"
     ]
    },
    {
     "name": "stderr",
     "output_type": "stream",
     "text": [
      "  8%|▊         | 3/38 [00:46<08:52, 15.21s/it]"
     ]
    },
    {
     "name": "stdout",
     "output_type": "stream",
     "text": [
      "[youtube] Extracting URL: https://www.youtube.com/watch?v=HZCcSTz1qLo\n",
      "[youtube] HZCcSTz1qLo: Downloading webpage\n",
      "[youtube] HZCcSTz1qLo: Downloading tv client config\n",
      "[youtube] HZCcSTz1qLo: Downloading player 74e4bb46\n",
      "[youtube] HZCcSTz1qLo: Downloading tv player API JSON\n",
      "[youtube] HZCcSTz1qLo: Downloading ios player API JSON\n",
      "[youtube] HZCcSTz1qLo: Downloading m3u8 information\n",
      "[info] HZCcSTz1qLo: Downloading 1 format(s): 251\n",
      "[download] Destination: C:\\Users\\waral\\Desktop\\fyp\\MM-ArgFallacy2025\\data\\MMUSED\\files\\debates_audio_recordings\\23_1996\\full_audio\n",
      "[download] 100% of   63.21MiB in 00:00:02 at 25.43MiB/s    \n",
      "[ExtractAudio] Destination: C:\\Users\\waral\\Desktop\\fyp\\MM-ArgFallacy2025\\data\\MMUSED\\files\\debates_audio_recordings\\23_1996\\full_audio.wav\n",
      "Deleting original file C:\\Users\\waral\\Desktop\\fyp\\MM-ArgFallacy2025\\data\\MMUSED\\files\\debates_audio_recordings\\23_1996\\full_audio (pass -k to keep)\n"
     ]
    },
    {
     "name": "stderr",
     "output_type": "stream",
     "text": [
      " 11%|█         | 4/38 [01:00<08:17, 14.63s/it]"
     ]
    },
    {
     "name": "stdout",
     "output_type": "stream",
     "text": [
      "[youtube] Extracting URL: https://www.youtube.com/watch?v=fj5A38gKHfk\n",
      "[youtube] fj5A38gKHfk: Downloading webpage\n",
      "[youtube] fj5A38gKHfk: Downloading tv client config\n",
      "[youtube] fj5A38gKHfk: Downloading player 6b3caec8\n",
      "[youtube] fj5A38gKHfk: Downloading tv player API JSON\n",
      "[youtube] fj5A38gKHfk: Downloading ios player API JSON\n",
      "[youtube] fj5A38gKHfk: Downloading m3u8 information\n",
      "[info] fj5A38gKHfk: Downloading 1 format(s): 251\n",
      "[download] Destination: C:\\Users\\waral\\Desktop\\fyp\\MM-ArgFallacy2025\\data\\MMUSED\\files\\debates_audio_recordings\\6_1976\\full_audio\n",
      "[download] 100% of   58.22MiB in 00:00:02 at 20.32MiB/s    \n",
      "[ExtractAudio] Destination: C:\\Users\\waral\\Desktop\\fyp\\MM-ArgFallacy2025\\data\\MMUSED\\files\\debates_audio_recordings\\6_1976\\full_audio.wav\n",
      "Deleting original file C:\\Users\\waral\\Desktop\\fyp\\MM-ArgFallacy2025\\data\\MMUSED\\files\\debates_audio_recordings\\6_1976\\full_audio (pass -k to keep)\n"
     ]
    },
    {
     "name": "stderr",
     "output_type": "stream",
     "text": [
      " 13%|█▎        | 5/38 [01:14<07:51, 14.29s/it]"
     ]
    },
    {
     "name": "stdout",
     "output_type": "stream",
     "text": [
      "[youtube] Extracting URL: https://www.youtube.com/watch?v=4b7NfEZWBzw\n",
      "[youtube] 4b7NfEZWBzw: Downloading webpage\n",
      "[youtube] 4b7NfEZWBzw: Downloading tv client config\n",
      "[youtube] 4b7NfEZWBzw: Downloading player 74e4bb46\n",
      "[youtube] 4b7NfEZWBzw: Downloading tv player API JSON\n",
      "[youtube] 4b7NfEZWBzw: Downloading ios player API JSON\n",
      "[youtube] 4b7NfEZWBzw: Downloading m3u8 information\n",
      "[info] 4b7NfEZWBzw: Downloading 1 format(s): 251\n",
      "[download] Destination: C:\\Users\\waral\\Desktop\\fyp\\MM-ArgFallacy2025\\data\\MMUSED\\files\\debates_audio_recordings\\33_2008\\full_audio\n",
      "[download] 100% of   76.60MiB in 00:00:03 at 24.77MiB/s    \n",
      "[ExtractAudio] Destination: C:\\Users\\waral\\Desktop\\fyp\\MM-ArgFallacy2025\\data\\MMUSED\\files\\debates_audio_recordings\\33_2008\\full_audio.wav\n",
      "Deleting original file C:\\Users\\waral\\Desktop\\fyp\\MM-ArgFallacy2025\\data\\MMUSED\\files\\debates_audio_recordings\\33_2008\\full_audio (pass -k to keep)\n"
     ]
    },
    {
     "name": "stderr",
     "output_type": "stream",
     "text": [
      " 16%|█▌        | 6/38 [01:30<07:56, 14.90s/it]"
     ]
    },
    {
     "name": "stdout",
     "output_type": "stream",
     "text": [
      "[youtube] Extracting URL: https://www.youtube.com/watch?v=4hurHlHQf2I\n",
      "[youtube] 4hurHlHQf2I: Downloading webpage\n",
      "[youtube] 4hurHlHQf2I: Downloading tv client config\n",
      "[youtube] 4hurHlHQf2I: Downloading player 74e4bb46\n",
      "[youtube] 4hurHlHQf2I: Downloading tv player API JSON\n",
      "[youtube] 4hurHlHQf2I: Downloading ios player API JSON\n",
      "[youtube] 4hurHlHQf2I: Downloading m3u8 information\n",
      "[info] 4hurHlHQf2I: Downloading 1 format(s): 251\n",
      "[download] Destination: C:\\Users\\waral\\Desktop\\fyp\\MM-ArgFallacy2025\\data\\MMUSED\\files\\debates_audio_recordings\\14_1988\\full_audio\n",
      "[download] 100% of   65.74MiB in 00:00:02 at 24.35MiB/s    \n",
      "[ExtractAudio] Destination: C:\\Users\\waral\\Desktop\\fyp\\MM-ArgFallacy2025\\data\\MMUSED\\files\\debates_audio_recordings\\14_1988\\full_audio.wav\n",
      "Deleting original file C:\\Users\\waral\\Desktop\\fyp\\MM-ArgFallacy2025\\data\\MMUSED\\files\\debates_audio_recordings\\14_1988\\full_audio (pass -k to keep)\n"
     ]
    },
    {
     "name": "stderr",
     "output_type": "stream",
     "text": [
      " 18%|█▊        | 7/38 [01:43<07:30, 14.54s/it]"
     ]
    },
    {
     "name": "stdout",
     "output_type": "stream",
     "text": [
      "[youtube] Extracting URL: https://www.youtube.com/watch?v=eOombKZSsj4\n",
      "[youtube] eOombKZSsj4: Downloading webpage\n",
      "[youtube] eOombKZSsj4: Downloading tv client config\n",
      "[youtube] eOombKZSsj4: Downloading player 74e4bb46\n",
      "[youtube] eOombKZSsj4: Downloading tv player API JSON\n",
      "[youtube] eOombKZSsj4: Downloading ios player API JSON\n",
      "[youtube] eOombKZSsj4: Downloading m3u8 information\n",
      "[info] eOombKZSsj4: Downloading 1 format(s): 251\n",
      "[download] Destination: C:\\Users\\waral\\Desktop\\fyp\\MM-ArgFallacy2025\\data\\MMUSED\\files\\debates_audio_recordings\\34_2008\\full_audio\n",
      "[download] 100% of   74.82MiB in 00:00:04 at 18.15MiB/s    \n",
      "[ExtractAudio] Destination: C:\\Users\\waral\\Desktop\\fyp\\MM-ArgFallacy2025\\data\\MMUSED\\files\\debates_audio_recordings\\34_2008\\full_audio.wav\n",
      "Deleting original file C:\\Users\\waral\\Desktop\\fyp\\MM-ArgFallacy2025\\data\\MMUSED\\files\\debates_audio_recordings\\34_2008\\full_audio (pass -k to keep)\n"
     ]
    },
    {
     "name": "stderr",
     "output_type": "stream",
     "text": [
      " 21%|██        | 8/38 [02:00<07:35, 15.19s/it]"
     ]
    },
    {
     "name": "stdout",
     "output_type": "stream",
     "text": [
      "[youtube] Extracting URL: https://www.youtube.com/watch?v=hCi4WHx3yDA&t=128s\n",
      "[youtube] hCi4WHx3yDA: Downloading webpage\n",
      "[youtube] hCi4WHx3yDA: Downloading tv client config\n",
      "[youtube] hCi4WHx3yDA: Downloading player 74e4bb46\n",
      "[youtube] hCi4WHx3yDA: Downloading tv player API JSON\n",
      "[youtube] hCi4WHx3yDA: Downloading ios player API JSON\n",
      "[youtube] hCi4WHx3yDA: Downloading m3u8 information\n",
      "[info] hCi4WHx3yDA: Downloading 1 format(s): 251\n",
      "[download] Destination: C:\\Users\\waral\\Desktop\\fyp\\MM-ArgFallacy2025\\data\\MMUSED\\files\\debates_audio_recordings\\40_2012\\full_audio\n",
      "[download] 100% of   76.27MiB in 00:00:10 at 7.33MiB/s     \n",
      "[ExtractAudio] Destination: C:\\Users\\waral\\Desktop\\fyp\\MM-ArgFallacy2025\\data\\MMUSED\\files\\debates_audio_recordings\\40_2012\\full_audio.wav\n",
      "Deleting original file C:\\Users\\waral\\Desktop\\fyp\\MM-ArgFallacy2025\\data\\MMUSED\\files\\debates_audio_recordings\\40_2012\\full_audio (pass -k to keep)\n"
     ]
    },
    {
     "name": "stderr",
     "output_type": "stream",
     "text": [
      " 24%|██▎       | 9/38 [02:23<08:33, 17.72s/it]"
     ]
    },
    {
     "name": "stdout",
     "output_type": "stream",
     "text": [
      "[youtube] Extracting URL: https://www.youtube.com/watch?v=vRQhXooojjY\n",
      "[youtube] vRQhXooojjY: Downloading webpage\n",
      "[youtube] vRQhXooojjY: Downloading tv client config\n",
      "[youtube] vRQhXooojjY: Downloading player 74e4bb46\n",
      "[youtube] vRQhXooojjY: Downloading tv player API JSON\n",
      "[youtube] vRQhXooojjY: Downloading ios player API JSON\n",
      "[youtube] vRQhXooojjY: Downloading m3u8 information\n",
      "[info] vRQhXooojjY: Downloading 1 format(s): 251\n",
      "[download] Destination: C:\\Users\\waral\\Desktop\\fyp\\MM-ArgFallacy2025\\data\\MMUSED\\files\\debates_audio_recordings\\36_2008\\full_audio\n",
      "[download] 100% of   68.41MiB in 00:00:10 at 6.24MiB/s     \n",
      "[ExtractAudio] Destination: C:\\Users\\waral\\Desktop\\fyp\\MM-ArgFallacy2025\\data\\MMUSED\\files\\debates_audio_recordings\\36_2008\\full_audio.wav\n",
      "Deleting original file C:\\Users\\waral\\Desktop\\fyp\\MM-ArgFallacy2025\\data\\MMUSED\\files\\debates_audio_recordings\\36_2008\\full_audio (pass -k to keep)\n"
     ]
    },
    {
     "name": "stderr",
     "output_type": "stream",
     "text": [
      " 26%|██▋       | 10/38 [02:46<08:58, 19.24s/it]"
     ]
    },
    {
     "name": "stdout",
     "output_type": "stream",
     "text": [
      "[youtube] Extracting URL: https://www.youtube.com/watch?v=fE61QJ3-GG8\n",
      "[youtube] fE61QJ3-GG8: Downloading webpage\n",
      "[youtube] fE61QJ3-GG8: Downloading tv client config\n",
      "[youtube] fE61QJ3-GG8: Downloading player 74e4bb46\n",
      "[youtube] fE61QJ3-GG8: Downloading tv player API JSON\n",
      "[youtube] fE61QJ3-GG8: Downloading ios player API JSON\n",
      "[youtube] fE61QJ3-GG8: Downloading m3u8 information\n",
      "[info] fE61QJ3-GG8: Downloading 1 format(s): 251\n",
      "[download] Destination: C:\\Users\\waral\\Desktop\\fyp\\MM-ArgFallacy2025\\data\\MMUSED\\files\\debates_audio_recordings\\2_1960\\full_audio\n",
      "[download] 100% of   51.12MiB in 00:00:06 at 7.84MiB/s     \n",
      "[ExtractAudio] Destination: C:\\Users\\waral\\Desktop\\fyp\\MM-ArgFallacy2025\\data\\MMUSED\\files\\debates_audio_recordings\\2_1960\\full_audio.wav\n",
      "Deleting original file C:\\Users\\waral\\Desktop\\fyp\\MM-ArgFallacy2025\\data\\MMUSED\\files\\debates_audio_recordings\\2_1960\\full_audio (pass -k to keep)\n"
     ]
    },
    {
     "name": "stderr",
     "output_type": "stream",
     "text": [
      " 29%|██▉       | 11/38 [03:01<08:00, 17.81s/it]"
     ]
    },
    {
     "name": "stdout",
     "output_type": "stream",
     "text": [
      "[youtube] Extracting URL: https://www.youtube.com/watch?v=fVj2llCwJtE\n",
      "[youtube] fVj2llCwJtE: Downloading webpage\n",
      "[youtube] fVj2llCwJtE: Downloading tv client config\n",
      "[youtube] fVj2llCwJtE: Downloading player 6b3caec8\n",
      "[youtube] fVj2llCwJtE: Downloading tv player API JSON\n",
      "[youtube] fVj2llCwJtE: Downloading ios player API JSON\n",
      "[youtube] fVj2llCwJtE: Downloading m3u8 information\n",
      "[info] fVj2llCwJtE: Downloading 1 format(s): 251\n",
      "[download] Destination: C:\\Users\\waral\\Desktop\\fyp\\MM-ArgFallacy2025\\data\\MMUSED\\files\\debates_audio_recordings\\8_1980\\full_audio\n",
      "[download] 100% of   40.99MiB in 00:00:01 at 29.35MiB/s    \n",
      "[ExtractAudio] Destination: C:\\Users\\waral\\Desktop\\fyp\\MM-ArgFallacy2025\\data\\MMUSED\\files\\debates_audio_recordings\\8_1980\\full_audio.wav\n",
      "Deleting original file C:\\Users\\waral\\Desktop\\fyp\\MM-ArgFallacy2025\\data\\MMUSED\\files\\debates_audio_recordings\\8_1980\\full_audio (pass -k to keep)\n"
     ]
    },
    {
     "name": "stderr",
     "output_type": "stream",
     "text": [
      " 32%|███▏      | 12/38 [03:11<06:45, 15.59s/it]"
     ]
    },
    {
     "name": "stdout",
     "output_type": "stream",
     "text": [
      "[youtube] Extracting URL: https://www.youtube.com/watch?v=V0ppjZvvgDU\n",
      "[youtube] V0ppjZvvgDU: Downloading webpage\n",
      "[youtube] V0ppjZvvgDU: Downloading tv client config\n",
      "[youtube] V0ppjZvvgDU: Downloading player 74e4bb46\n",
      "[youtube] V0ppjZvvgDU: Downloading tv player API JSON\n",
      "[youtube] V0ppjZvvgDU: Downloading ios player API JSON\n",
      "[youtube] V0ppjZvvgDU: Downloading m3u8 information\n",
      "[info] V0ppjZvvgDU: Downloading 1 format(s): 251\n",
      "[download] Destination: C:\\Users\\waral\\Desktop\\fyp\\MM-ArgFallacy2025\\data\\MMUSED\\files\\debates_audio_recordings\\35_2008\\full_audio\n",
      "[download] 100% of   75.30MiB in 00:00:03 at 21.82MiB/s    \n",
      "[ExtractAudio] Destination: C:\\Users\\waral\\Desktop\\fyp\\MM-ArgFallacy2025\\data\\MMUSED\\files\\debates_audio_recordings\\35_2008\\full_audio.wav\n",
      "Deleting original file C:\\Users\\waral\\Desktop\\fyp\\MM-ArgFallacy2025\\data\\MMUSED\\files\\debates_audio_recordings\\35_2008\\full_audio (pass -k to keep)\n"
     ]
    },
    {
     "name": "stderr",
     "output_type": "stream",
     "text": [
      " 34%|███▍      | 13/38 [03:27<06:31, 15.65s/it]"
     ]
    },
    {
     "name": "stdout",
     "output_type": "stream",
     "text": [
      "[youtube] Extracting URL: https://www.youtube.com/watch?v=5SbsCaRYW6w\n",
      "[youtube] 5SbsCaRYW6w: Downloading webpage\n",
      "[youtube] 5SbsCaRYW6w: Downloading tv client config\n",
      "[youtube] 5SbsCaRYW6w: Downloading player 74e4bb46\n",
      "[youtube] 5SbsCaRYW6w: Downloading tv player API JSON\n",
      "[youtube] 5SbsCaRYW6w: Downloading ios player API JSON\n",
      "[youtube] 5SbsCaRYW6w: Downloading m3u8 information\n",
      "[info] 5SbsCaRYW6w: Downloading 1 format(s): 251\n",
      "[download] Destination: C:\\Users\\waral\\Desktop\\fyp\\MM-ArgFallacy2025\\data\\MMUSED\\files\\debates_audio_recordings\\12_1984\\full_audio\n",
      "[download] 100% of   64.10MiB in 00:00:02 at 28.08MiB/s    \n",
      "[ExtractAudio] Destination: C:\\Users\\waral\\Desktop\\fyp\\MM-ArgFallacy2025\\data\\MMUSED\\files\\debates_audio_recordings\\12_1984\\full_audio.wav\n",
      "Deleting original file C:\\Users\\waral\\Desktop\\fyp\\MM-ArgFallacy2025\\data\\MMUSED\\files\\debates_audio_recordings\\12_1984\\full_audio (pass -k to keep)\n"
     ]
    },
    {
     "name": "stderr",
     "output_type": "stream",
     "text": [
      " 37%|███▋      | 14/38 [03:40<06:00, 15.02s/it]"
     ]
    },
    {
     "name": "stdout",
     "output_type": "stream",
     "text": [
      "[youtube] Extracting URL: https://www.youtube.com/watch?v=BIq_mW-nSnQ\n",
      "[youtube] BIq_mW-nSnQ: Downloading webpage\n",
      "[youtube] BIq_mW-nSnQ: Downloading tv client config\n",
      "[youtube] BIq_mW-nSnQ: Downloading player 74e4bb46\n",
      "[youtube] BIq_mW-nSnQ: Downloading tv player API JSON\n",
      "[youtube] BIq_mW-nSnQ: Downloading ios player API JSON\n",
      "[youtube] BIq_mW-nSnQ: Downloading m3u8 information\n",
      "[info] BIq_mW-nSnQ: Downloading 1 format(s): 251\n",
      "[download] Destination: C:\\Users\\waral\\Desktop\\fyp\\MM-ArgFallacy2025\\data\\MMUSED\\files\\debates_audio_recordings\\18_1992\\full_audio\n",
      "[download] 100% of   67.68MiB in 00:00:03 at 19.67MiB/s    \n",
      "[ExtractAudio] Destination: C:\\Users\\waral\\Desktop\\fyp\\MM-ArgFallacy2025\\data\\MMUSED\\files\\debates_audio_recordings\\18_1992\\full_audio.wav\n",
      "Deleting original file C:\\Users\\waral\\Desktop\\fyp\\MM-ArgFallacy2025\\data\\MMUSED\\files\\debates_audio_recordings\\18_1992\\full_audio (pass -k to keep)\n"
     ]
    },
    {
     "name": "stderr",
     "output_type": "stream",
     "text": [
      " 39%|███▉      | 15/38 [03:56<05:47, 15.11s/it]"
     ]
    },
    {
     "name": "stdout",
     "output_type": "stream",
     "text": [
      "[youtube] Extracting URL: https://www.youtube.com/watch?v=cIHRMoVKXb0\n",
      "[youtube] cIHRMoVKXb0: Downloading webpage\n",
      "[youtube] cIHRMoVKXb0: Downloading tv client config\n",
      "[youtube] cIHRMoVKXb0: Downloading player 74e4bb46\n",
      "[youtube] cIHRMoVKXb0: Downloading tv player API JSON\n",
      "[youtube] cIHRMoVKXb0: Downloading ios player API JSON\n",
      "[youtube] cIHRMoVKXb0: Downloading m3u8 information\n",
      "[info] cIHRMoVKXb0: Downloading 1 format(s): 251\n",
      "[download] Destination: C:\\Users\\waral\\Desktop\\fyp\\MM-ArgFallacy2025\\data\\MMUSED\\files\\debates_audio_recordings\\32_2004\\full_audio\n",
      "[download] 100% of   72.73MiB in 00:00:02 at 25.34MiB/s    \n",
      "[ExtractAudio] Destination: C:\\Users\\waral\\Desktop\\fyp\\MM-ArgFallacy2025\\data\\MMUSED\\files\\debates_audio_recordings\\32_2004\\full_audio.wav\n",
      "Deleting original file C:\\Users\\waral\\Desktop\\fyp\\MM-ArgFallacy2025\\data\\MMUSED\\files\\debates_audio_recordings\\32_2004\\full_audio (pass -k to keep)\n"
     ]
    },
    {
     "name": "stderr",
     "output_type": "stream",
     "text": [
      " 42%|████▏     | 16/38 [04:11<05:31, 15.09s/it]"
     ]
    },
    {
     "name": "stdout",
     "output_type": "stream",
     "text": [
      "[youtube] Extracting URL: https://www.youtube.com/watch?v=WYpP-T0IcyA\n",
      "[youtube] WYpP-T0IcyA: Downloading webpage\n",
      "[youtube] WYpP-T0IcyA: Downloading tv client config\n",
      "[youtube] WYpP-T0IcyA: Downloading player 74e4bb46\n",
      "[youtube] WYpP-T0IcyA: Downloading tv player API JSON\n",
      "[youtube] WYpP-T0IcyA: Downloading ios player API JSON\n",
      "[youtube] WYpP-T0IcyA: Downloading m3u8 information\n",
      "[info] WYpP-T0IcyA: Downloading 1 format(s): 251\n",
      "[download] Destination: C:\\Users\\waral\\Desktop\\fyp\\MM-ArgFallacy2025\\data\\MMUSED\\files\\debates_audio_recordings\\29_2004\\full_audio\n",
      "[download] 100% of   67.32MiB in 00:00:02 at 25.20MiB/s    \n",
      "[ExtractAudio] Destination: C:\\Users\\waral\\Desktop\\fyp\\MM-ArgFallacy2025\\data\\MMUSED\\files\\debates_audio_recordings\\29_2004\\full_audio.wav\n",
      "Deleting original file C:\\Users\\waral\\Desktop\\fyp\\MM-ArgFallacy2025\\data\\MMUSED\\files\\debates_audio_recordings\\29_2004\\full_audio (pass -k to keep)\n"
     ]
    },
    {
     "name": "stderr",
     "output_type": "stream",
     "text": [
      " 45%|████▍     | 17/38 [04:25<05:12, 14.88s/it]"
     ]
    },
    {
     "name": "stdout",
     "output_type": "stream",
     "text": [
      "[youtube] Extracting URL: https://www.youtube.com/watch?v=-9cdRpE4KKc&t=5s\n",
      "[youtube] -9cdRpE4KKc: Downloading webpage\n",
      "[youtube] -9cdRpE4KKc: Downloading tv client config\n",
      "[youtube] -9cdRpE4KKc: Downloading player 6b3caec8\n",
      "[youtube] -9cdRpE4KKc: Downloading tv player API JSON\n",
      "[youtube] -9cdRpE4KKc: Downloading ios player API JSON\n",
      "[youtube] -9cdRpE4KKc: Downloading m3u8 information\n",
      "[info] -9cdRpE4KKc: Downloading 1 format(s): 251\n",
      "[download] Destination: C:\\Users\\waral\\Desktop\\fyp\\MM-ArgFallacy2025\\data\\MMUSED\\files\\debates_audio_recordings\\4_1960\\full_audio\n",
      "[download] 100% of   46.32MiB in 00:00:01 at 28.64MiB/s    \n",
      "[ExtractAudio] Destination: C:\\Users\\waral\\Desktop\\fyp\\MM-ArgFallacy2025\\data\\MMUSED\\files\\debates_audio_recordings\\4_1960\\full_audio.wav\n",
      "Deleting original file C:\\Users\\waral\\Desktop\\fyp\\MM-ArgFallacy2025\\data\\MMUSED\\files\\debates_audio_recordings\\4_1960\\full_audio (pass -k to keep)\n"
     ]
    },
    {
     "name": "stderr",
     "output_type": "stream",
     "text": [
      " 47%|████▋     | 18/38 [04:37<04:41, 14.08s/it]"
     ]
    },
    {
     "name": "stdout",
     "output_type": "stream",
     "text": [
      "[youtube] Extracting URL: https://www.youtube.com/watch?v=ffnQaODsgD4&t=8s\n",
      "[youtube] ffnQaODsgD4: Downloading webpage\n",
      "[youtube] ffnQaODsgD4: Downloading tv client config\n",
      "[youtube] ffnQaODsgD4: Downloading player 74e4bb46\n",
      "[youtube] ffnQaODsgD4: Downloading tv player API JSON\n",
      "[youtube] ffnQaODsgD4: Downloading ios player API JSON\n",
      "[youtube] ffnQaODsgD4: Downloading m3u8 information\n",
      "[info] ffnQaODsgD4: Downloading 1 format(s): 251\n",
      "[download] Destination: C:\\Users\\waral\\Desktop\\fyp\\MM-ArgFallacy2025\\data\\MMUSED\\files\\debates_audio_recordings\\22_1996\\full_audio\n",
      "[download] 100% of   82.36MiB in 00:00:03 at 24.72MiB/s    \n",
      "[ExtractAudio] Destination: C:\\Users\\waral\\Desktop\\fyp\\MM-ArgFallacy2025\\data\\MMUSED\\files\\debates_audio_recordings\\22_1996\\full_audio.wav\n",
      "Deleting original file C:\\Users\\waral\\Desktop\\fyp\\MM-ArgFallacy2025\\data\\MMUSED\\files\\debates_audio_recordings\\22_1996\\full_audio (pass -k to keep)\n"
     ]
    },
    {
     "name": "stderr",
     "output_type": "stream",
     "text": [
      " 50%|█████     | 19/38 [04:54<04:41, 14.82s/it]"
     ]
    },
    {
     "name": "stdout",
     "output_type": "stream",
     "text": [
      "[youtube] Extracting URL: https://www.youtube.com/watch?v=ObDjMJdNGBw\n",
      "[youtube] ObDjMJdNGBw: Downloading webpage\n",
      "[youtube] ObDjMJdNGBw: Downloading tv client config\n",
      "[youtube] ObDjMJdNGBw: Downloading player 74e4bb46\n",
      "[youtube] ObDjMJdNGBw: Downloading tv player API JSON\n",
      "[youtube] ObDjMJdNGBw: Downloading ios player API JSON\n",
      "[youtube] ObDjMJdNGBw: Downloading m3u8 information\n",
      "[info] ObDjMJdNGBw: Downloading 1 format(s): 251\n",
      "[download] Destination: C:\\Users\\waral\\Desktop\\fyp\\MM-ArgFallacy2025\\data\\MMUSED\\files\\debates_audio_recordings\\10_1984\\full_audio\n",
      "[download] 100% of   69.22MiB in 00:00:03 at 19.89MiB/s    \n",
      "[ExtractAudio] Destination: C:\\Users\\waral\\Desktop\\fyp\\MM-ArgFallacy2025\\data\\MMUSED\\files\\debates_audio_recordings\\10_1984\\full_audio.wav\n",
      "Deleting original file C:\\Users\\waral\\Desktop\\fyp\\MM-ArgFallacy2025\\data\\MMUSED\\files\\debates_audio_recordings\\10_1984\\full_audio (pass -k to keep)\n"
     ]
    },
    {
     "name": "stderr",
     "output_type": "stream",
     "text": [
      " 53%|█████▎    | 20/38 [05:10<04:31, 15.10s/it]"
     ]
    },
    {
     "name": "stdout",
     "output_type": "stream",
     "text": [
      "[youtube] Extracting URL: https://www.youtube.com/watch?v=irzSo578gmg\n",
      "[youtube] irzSo578gmg: Downloading webpage\n",
      "[youtube] irzSo578gmg: Downloading tv client config\n",
      "[youtube] irzSo578gmg: Downloading player 74e4bb46\n",
      "[youtube] irzSo578gmg: Downloading tv player API JSON\n",
      "[youtube] irzSo578gmg: Downloading ios player API JSON\n",
      "[youtube] irzSo578gmg: Downloading m3u8 information\n",
      "[info] irzSo578gmg: Downloading 1 format(s): 251\n",
      "[download] Destination: C:\\Users\\waral\\Desktop\\fyp\\MM-ArgFallacy2025\\data\\MMUSED\\files\\debates_audio_recordings\\27_2000\\full_audio\n",
      "[download] 100% of   62.17MiB in 00:00:02 at 26.63MiB/s    \n",
      "[ExtractAudio] Destination: C:\\Users\\waral\\Desktop\\fyp\\MM-ArgFallacy2025\\data\\MMUSED\\files\\debates_audio_recordings\\27_2000\\full_audio.wav\n",
      "Deleting original file C:\\Users\\waral\\Desktop\\fyp\\MM-ArgFallacy2025\\data\\MMUSED\\files\\debates_audio_recordings\\27_2000\\full_audio (pass -k to keep)\n"
     ]
    },
    {
     "name": "stderr",
     "output_type": "stream",
     "text": [
      " 55%|█████▌    | 21/38 [05:23<04:09, 14.65s/it]"
     ]
    },
    {
     "name": "stdout",
     "output_type": "stream",
     "text": [
      "[youtube] Extracting URL: https://www.youtube.com/watch?v=jWo88Lr0rzw\n",
      "[youtube] jWo88Lr0rzw: Downloading webpage\n",
      "[youtube] jWo88Lr0rzw: Downloading tv client config\n",
      "[youtube] jWo88Lr0rzw: Downloading player 74e4bb46\n",
      "[youtube] jWo88Lr0rzw: Downloading tv player API JSON\n",
      "[youtube] jWo88Lr0rzw: Downloading ios player API JSON\n",
      "[youtube] jWo88Lr0rzw: Downloading m3u8 information\n",
      "[info] jWo88Lr0rzw: Downloading 1 format(s): 251\n",
      "[download] Destination: C:\\Users\\waral\\Desktop\\fyp\\MM-ArgFallacy2025\\data\\MMUSED\\files\\debates_audio_recordings\\16_1992\\full_audio\n",
      "[download] 100% of   67.78MiB in 00:00:03 at 20.45MiB/s    \n",
      "[ExtractAudio] Destination: C:\\Users\\waral\\Desktop\\fyp\\MM-ArgFallacy2025\\data\\MMUSED\\files\\debates_audio_recordings\\16_1992\\full_audio.wav\n",
      "Deleting original file C:\\Users\\waral\\Desktop\\fyp\\MM-ArgFallacy2025\\data\\MMUSED\\files\\debates_audio_recordings\\16_1992\\full_audio (pass -k to keep)\n"
     ]
    },
    {
     "name": "stderr",
     "output_type": "stream",
     "text": [
      " 58%|█████▊    | 22/38 [05:41<04:07, 15.45s/it]"
     ]
    },
    {
     "name": "stdout",
     "output_type": "stream",
     "text": [
      "[youtube] Extracting URL: https://www.youtube.com/watch?v=50WmNau8Pyw\n",
      "[youtube] 50WmNau8Pyw: Downloading webpage\n",
      "[youtube] 50WmNau8Pyw: Downloading tv client config\n",
      "[youtube] 50WmNau8Pyw: Downloading player 74e4bb46\n",
      "[youtube] 50WmNau8Pyw: Downloading tv player API JSON\n",
      "[youtube] 50WmNau8Pyw: Downloading ios player API JSON\n",
      "[youtube] 50WmNau8Pyw: Downloading m3u8 information\n",
      "[info] 50WmNau8Pyw: Downloading 1 format(s): 251\n",
      "[download] Destination: C:\\Users\\waral\\Desktop\\fyp\\MM-ArgFallacy2025\\data\\MMUSED\\files\\debates_audio_recordings\\7_1976\\full_audio\n",
      "[download] 100% of   64.03MiB in 00:00:02 at 26.98MiB/s    \n",
      "[ExtractAudio] Destination: C:\\Users\\waral\\Desktop\\fyp\\MM-ArgFallacy2025\\data\\MMUSED\\files\\debates_audio_recordings\\7_1976\\full_audio.wav\n",
      "Deleting original file C:\\Users\\waral\\Desktop\\fyp\\MM-ArgFallacy2025\\data\\MMUSED\\files\\debates_audio_recordings\\7_1976\\full_audio (pass -k to keep)\n"
     ]
    },
    {
     "name": "stderr",
     "output_type": "stream",
     "text": [
      " 61%|██████    | 23/38 [05:54<03:42, 14.86s/it]"
     ]
    },
    {
     "name": "stdout",
     "output_type": "stream",
     "text": [
      "[youtube] Extracting URL: https://www.youtube.com/watch?v=KfaBRyCKRhk&t=23s\n",
      "[youtube] KfaBRyCKRhk: Downloading webpage\n",
      "[youtube] KfaBRyCKRhk: Downloading tv client config\n",
      "[youtube] KfaBRyCKRhk: Downloading player 6b3caec8\n",
      "[youtube] KfaBRyCKRhk: Downloading tv player API JSON\n",
      "[youtube] KfaBRyCKRhk: Downloading ios player API JSON\n",
      "[youtube] KfaBRyCKRhk: Downloading m3u8 information\n",
      "[info] KfaBRyCKRhk: Downloading 1 format(s): 251\n",
      "[download] Destination: C:\\Users\\waral\\Desktop\\fyp\\MM-ArgFallacy2025\\data\\MMUSED\\files\\debates_audio_recordings\\37_2012\\full_audio\n",
      "[download] 100% of   76.73MiB in 00:00:03 at 19.66MiB/s    \n",
      "[ExtractAudio] Destination: C:\\Users\\waral\\Desktop\\fyp\\MM-ArgFallacy2025\\data\\MMUSED\\files\\debates_audio_recordings\\37_2012\\full_audio.wav\n",
      "Deleting original file C:\\Users\\waral\\Desktop\\fyp\\MM-ArgFallacy2025\\data\\MMUSED\\files\\debates_audio_recordings\\37_2012\\full_audio (pass -k to keep)\n"
     ]
    },
    {
     "name": "stderr",
     "output_type": "stream",
     "text": [
      " 63%|██████▎   | 24/38 [06:11<03:35, 15.42s/it]"
     ]
    },
    {
     "name": "stdout",
     "output_type": "stream",
     "text": [
      "[youtube] Extracting URL: https://www.youtube.com/watch?v=cm-UAfEdWg4\n",
      "[youtube] cm-UAfEdWg4: Downloading webpage\n",
      "[youtube] cm-UAfEdWg4: Downloading tv client config\n",
      "[youtube] cm-UAfEdWg4: Downloading player 74e4bb46\n",
      "[youtube] cm-UAfEdWg4: Downloading tv player API JSON\n",
      "[youtube] cm-UAfEdWg4: Downloading ios player API JSON\n",
      "[youtube] cm-UAfEdWg4: Downloading m3u8 information\n",
      "[info] cm-UAfEdWg4: Downloading 1 format(s): 251\n",
      "[download] Destination: C:\\Users\\waral\\Desktop\\fyp\\MM-ArgFallacy2025\\data\\MMUSED\\files\\debates_audio_recordings\\19_1992\\full_audio\n",
      "[download] 100% of   73.72MiB in 00:00:13 at 5.40MiB/s     \n",
      "[ExtractAudio] Destination: C:\\Users\\waral\\Desktop\\fyp\\MM-ArgFallacy2025\\data\\MMUSED\\files\\debates_audio_recordings\\19_1992\\full_audio.wav\n",
      "Deleting original file C:\\Users\\waral\\Desktop\\fyp\\MM-ArgFallacy2025\\data\\MMUSED\\files\\debates_audio_recordings\\19_1992\\full_audio (pass -k to keep)\n"
     ]
    },
    {
     "name": "stderr",
     "output_type": "stream",
     "text": [
      " 66%|██████▌   | 25/38 [06:37<04:01, 18.58s/it]"
     ]
    },
    {
     "name": "stdout",
     "output_type": "stream",
     "text": [
      "[youtube] Extracting URL: https://www.youtube.com/watch?v=HrHX9woYl5w\n",
      "[youtube] HrHX9woYl5w: Downloading webpage\n",
      "[youtube] HrHX9woYl5w: Downloading tv client config\n",
      "[youtube] HrHX9woYl5w: Downloading player 74e4bb46\n",
      "[youtube] HrHX9woYl5w: Downloading tv player API JSON\n",
      "[youtube] HrHX9woYl5w: Downloading ios player API JSON\n",
      "[youtube] HrHX9woYl5w: Downloading m3u8 information\n",
      "[info] HrHX9woYl5w: Downloading 1 format(s): 251\n",
      "[download] Destination: C:\\Users\\waral\\Desktop\\fyp\\MM-ArgFallacy2025\\data\\MMUSED\\files\\debates_audio_recordings\\26_2000\\full_audio\n",
      "[download] 100% of   70.72MiB in 00:00:02 at 23.68MiB/s    \n",
      "[ExtractAudio] Destination: C:\\Users\\waral\\Desktop\\fyp\\MM-ArgFallacy2025\\data\\MMUSED\\files\\debates_audio_recordings\\26_2000\\full_audio.wav\n",
      "Deleting original file C:\\Users\\waral\\Desktop\\fyp\\MM-ArgFallacy2025\\data\\MMUSED\\files\\debates_audio_recordings\\26_2000\\full_audio (pass -k to keep)\n"
     ]
    },
    {
     "name": "stderr",
     "output_type": "stream",
     "text": [
      " 68%|██████▊   | 26/38 [06:52<03:29, 17.50s/it]"
     ]
    },
    {
     "name": "stdout",
     "output_type": "stream",
     "text": [
      "[youtube] Extracting URL: https://www.youtube.com/watch?v=jhXgbrkFJ_s&t=12s\n",
      "[youtube] jhXgbrkFJ_s: Downloading webpage\n",
      "[youtube] jhXgbrkFJ_s: Downloading tv client config\n",
      "[youtube] jhXgbrkFJ_s: Downloading player 74e4bb46\n",
      "[youtube] jhXgbrkFJ_s: Downloading tv player API JSON\n",
      "[youtube] jhXgbrkFJ_s: Downloading ios player API JSON\n",
      "[youtube] jhXgbrkFJ_s: Downloading m3u8 information\n",
      "[info] jhXgbrkFJ_s: Downloading 1 format(s): 251\n",
      "[download] Destination: C:\\Users\\waral\\Desktop\\fyp\\MM-ArgFallacy2025\\data\\MMUSED\\files\\debates_audio_recordings\\39_2012\\full_audio\n",
      "[download] 100% of   78.79MiB in 00:00:03 at 25.26MiB/s    \n",
      "[ExtractAudio] Destination: C:\\Users\\waral\\Desktop\\fyp\\MM-ArgFallacy2025\\data\\MMUSED\\files\\debates_audio_recordings\\39_2012\\full_audio.wav\n",
      "Deleting original file C:\\Users\\waral\\Desktop\\fyp\\MM-ArgFallacy2025\\data\\MMUSED\\files\\debates_audio_recordings\\39_2012\\full_audio (pass -k to keep)\n"
     ]
    },
    {
     "name": "stderr",
     "output_type": "stream",
     "text": [
      " 71%|███████   | 27/38 [07:08<03:07, 17.07s/it]"
     ]
    },
    {
     "name": "stdout",
     "output_type": "stream",
     "text": [
      "[youtube] Extracting URL: https://www.youtube.com/watch?v=AYP8-oxq8ig&t=11s\n",
      "[youtube] AYP8-oxq8ig: Downloading webpage\n",
      "[youtube] AYP8-oxq8ig: Downloading tv client config\n",
      "[youtube] AYP8-oxq8ig: Downloading player 74e4bb46\n",
      "[youtube] AYP8-oxq8ig: Downloading tv player API JSON\n",
      "[youtube] AYP8-oxq8ig: Downloading ios player API JSON\n",
      "[youtube] AYP8-oxq8ig: Downloading m3u8 information\n",
      "[info] AYP8-oxq8ig: Downloading 1 format(s): 251\n",
      "[download] Destination: C:\\Users\\waral\\Desktop\\fyp\\MM-ArgFallacy2025\\data\\MMUSED\\files\\debates_audio_recordings\\1_1960\\full_audio\n",
      "[download] 100% of   38.99MiB in 00:00:01 at 27.66MiB/s    \n",
      "[ExtractAudio] Destination: C:\\Users\\waral\\Desktop\\fyp\\MM-ArgFallacy2025\\data\\MMUSED\\files\\debates_audio_recordings\\1_1960\\full_audio.wav\n",
      "Deleting original file C:\\Users\\waral\\Desktop\\fyp\\MM-ArgFallacy2025\\data\\MMUSED\\files\\debates_audio_recordings\\1_1960\\full_audio (pass -k to keep)\n"
     ]
    },
    {
     "name": "stderr",
     "output_type": "stream",
     "text": [
      " 74%|███████▎  | 28/38 [07:17<02:28, 14.83s/it]"
     ]
    },
    {
     "name": "stdout",
     "output_type": "stream",
     "text": [
      "[youtube] Extracting URL: https://www.youtube.com/watch?v=yYcdSwbrErI\n",
      "[youtube] yYcdSwbrErI: Downloading webpage\n",
      "[youtube] yYcdSwbrErI: Downloading tv client config\n",
      "[youtube] yYcdSwbrErI: Downloading player 74e4bb46\n",
      "[youtube] yYcdSwbrErI: Downloading tv player API JSON\n",
      "[youtube] yYcdSwbrErI: Downloading ios player API JSON\n",
      "[youtube] yYcdSwbrErI: Downloading m3u8 information\n",
      "[info] yYcdSwbrErI: Downloading 1 format(s): 251\n",
      "[download] Destination: C:\\Users\\waral\\Desktop\\fyp\\MM-ArgFallacy2025\\data\\MMUSED\\files\\debates_audio_recordings\\38_2012\\full_audio\n",
      "[download] 100% of   74.02MiB in 00:00:11 at 6.63MiB/s     \n",
      "[ExtractAudio] Destination: C:\\Users\\waral\\Desktop\\fyp\\MM-ArgFallacy2025\\data\\MMUSED\\files\\debates_audio_recordings\\38_2012\\full_audio.wav\n",
      "Deleting original file C:\\Users\\waral\\Desktop\\fyp\\MM-ArgFallacy2025\\data\\MMUSED\\files\\debates_audio_recordings\\38_2012\\full_audio (pass -k to keep)\n"
     ]
    },
    {
     "name": "stderr",
     "output_type": "stream",
     "text": [
      " 76%|███████▋  | 29/38 [07:41<02:36, 17.43s/it]"
     ]
    },
    {
     "name": "stdout",
     "output_type": "stream",
     "text": [
      "[youtube] Extracting URL: https://www.youtube.com/watch?v=uKDFcOfqGMQ\n",
      "[youtube] uKDFcOfqGMQ: Downloading webpage\n",
      "[youtube] uKDFcOfqGMQ: Downloading tv client config\n",
      "[youtube] uKDFcOfqGMQ: Downloading player 74e4bb46\n",
      "[youtube] uKDFcOfqGMQ: Downloading tv player API JSON\n",
      "[youtube] uKDFcOfqGMQ: Downloading ios player API JSON\n",
      "[youtube] uKDFcOfqGMQ: Downloading m3u8 information\n",
      "[info] uKDFcOfqGMQ: Downloading 1 format(s): 251\n",
      "[download] Destination: C:\\Users\\waral\\Desktop\\fyp\\MM-ArgFallacy2025\\data\\MMUSED\\files\\debates_audio_recordings\\28_2000\\full_audio\n",
      "[download] 100% of   66.71MiB in 00:00:11 at 5.78MiB/s     \n",
      "[ExtractAudio] Destination: C:\\Users\\waral\\Desktop\\fyp\\MM-ArgFallacy2025\\data\\MMUSED\\files\\debates_audio_recordings\\28_2000\\full_audio.wav\n",
      "Deleting original file C:\\Users\\waral\\Desktop\\fyp\\MM-ArgFallacy2025\\data\\MMUSED\\files\\debates_audio_recordings\\28_2000\\full_audio (pass -k to keep)\n"
     ]
    },
    {
     "name": "stderr",
     "output_type": "stream",
     "text": [
      " 79%|███████▉  | 30/38 [08:04<02:33, 19.23s/it]"
     ]
    },
    {
     "name": "stdout",
     "output_type": "stream",
     "text": [
      "[youtube] Extracting URL: https://www.youtube.com/watch?v=HwQBeMUj_ps\n",
      "[youtube] HwQBeMUj_ps: Downloading webpage\n",
      "[youtube] HwQBeMUj_ps: Downloading tv client config\n",
      "[youtube] HwQBeMUj_ps: Downloading player 74e4bb46\n",
      "[youtube] HwQBeMUj_ps: Downloading tv player API JSON\n",
      "[youtube] HwQBeMUj_ps: Downloading ios player API JSON\n",
      "[youtube] HwQBeMUj_ps: Downloading m3u8 information\n",
      "[info] HwQBeMUj_ps: Downloading 1 format(s): 251\n",
      "[download] Destination: C:\\Users\\waral\\Desktop\\fyp\\MM-ArgFallacy2025\\data\\MMUSED\\files\\debates_audio_recordings\\25_2000\\full_audio\n",
      "[download] 100% of   70.73MiB in 00:00:03 at 18.74MiB/s    \n",
      "[ExtractAudio] Destination: C:\\Users\\waral\\Desktop\\fyp\\MM-ArgFallacy2025\\data\\MMUSED\\files\\debates_audio_recordings\\25_2000\\full_audio.wav\n",
      "Deleting original file C:\\Users\\waral\\Desktop\\fyp\\MM-ArgFallacy2025\\data\\MMUSED\\files\\debates_audio_recordings\\25_2000\\full_audio (pass -k to keep)\n"
     ]
    },
    {
     "name": "stderr",
     "output_type": "stream",
     "text": [
      " 82%|████████▏ | 31/38 [08:22<02:11, 18.80s/it]"
     ]
    },
    {
     "name": "stdout",
     "output_type": "stream",
     "text": [
      "[youtube] Extracting URL: https://www.youtube.com/watch?v=_8YxFc_1b_0\n",
      "[youtube] _8YxFc_1b_0: Downloading webpage\n",
      "[youtube] _8YxFc_1b_0: Downloading tv client config\n",
      "[youtube] _8YxFc_1b_0: Downloading player 74e4bb46\n",
      "[youtube] _8YxFc_1b_0: Downloading tv player API JSON\n",
      "[youtube] _8YxFc_1b_0: Downloading ios player API JSON\n",
      "[youtube] _8YxFc_1b_0: Downloading m3u8 information\n",
      "[info] _8YxFc_1b_0: Downloading 1 format(s): 251\n",
      "[download] Destination: C:\\Users\\waral\\Desktop\\fyp\\MM-ArgFallacy2025\\data\\MMUSED\\files\\debates_audio_recordings\\9_1980\\full_audio\n",
      "[download] 100% of   64.52MiB in 00:00:03 at 19.66MiB/s    \n",
      "[ExtractAudio] Destination: C:\\Users\\waral\\Desktop\\fyp\\MM-ArgFallacy2025\\data\\MMUSED\\files\\debates_audio_recordings\\9_1980\\full_audio.wav\n",
      "Deleting original file C:\\Users\\waral\\Desktop\\fyp\\MM-ArgFallacy2025\\data\\MMUSED\\files\\debates_audio_recordings\\9_1980\\full_audio (pass -k to keep)\n"
     ]
    },
    {
     "name": "stderr",
     "output_type": "stream",
     "text": [
      " 84%|████████▍ | 32/38 [08:37<01:46, 17.71s/it]"
     ]
    },
    {
     "name": "stdout",
     "output_type": "stream",
     "text": [
      "[youtube] Extracting URL: https://www.youtube.com/watch?v=eg7-QJrJZV0\n",
      "[youtube] eg7-QJrJZV0: Downloading webpage\n",
      "[youtube] eg7-QJrJZV0: Downloading tv client config\n",
      "[youtube] eg7-QJrJZV0: Downloading player 6b3caec8\n",
      "[youtube] eg7-QJrJZV0: Downloading tv player API JSON\n",
      "[youtube] eg7-QJrJZV0: Downloading ios player API JSON\n",
      "[youtube] eg7-QJrJZV0: Downloading m3u8 information\n",
      "[info] eg7-QJrJZV0: Downloading 1 format(s): 251\n",
      "[download] Destination: C:\\Users\\waral\\Desktop\\fyp\\MM-ArgFallacy2025\\data\\MMUSED\\files\\debates_audio_recordings\\21_1992\\full_audio\n",
      "[download] 100% of   65.37MiB in 00:00:03 at 19.96MiB/s    \n",
      "[ExtractAudio] Destination: C:\\Users\\waral\\Desktop\\fyp\\MM-ArgFallacy2025\\data\\MMUSED\\files\\debates_audio_recordings\\21_1992\\full_audio.wav\n",
      "Deleting original file C:\\Users\\waral\\Desktop\\fyp\\MM-ArgFallacy2025\\data\\MMUSED\\files\\debates_audio_recordings\\21_1992\\full_audio (pass -k to keep)\n"
     ]
    },
    {
     "name": "stderr",
     "output_type": "stream",
     "text": [
      " 87%|████████▋ | 33/38 [08:53<01:25, 17.00s/it]"
     ]
    },
    {
     "name": "stdout",
     "output_type": "stream",
     "text": [
      "[youtube] Extracting URL: https://www.youtube.com/watch?v=hHCUvx3tpnM\n",
      "[youtube] hHCUvx3tpnM: Downloading webpage\n",
      "[youtube] hHCUvx3tpnM: Downloading tv client config\n",
      "[youtube] hHCUvx3tpnM: Downloading player 74e4bb46\n",
      "[youtube] hHCUvx3tpnM: Downloading tv player API JSON\n",
      "[youtube] hHCUvx3tpnM: Downloading ios player API JSON\n",
      "[youtube] hHCUvx3tpnM: Downloading m3u8 information\n",
      "[info] hHCUvx3tpnM: Downloading 1 format(s): 251\n",
      "[download] Destination: C:\\Users\\waral\\Desktop\\fyp\\MM-ArgFallacy2025\\data\\MMUSED\\files\\debates_audio_recordings\\15_1988\\full_audio\n",
      "[download] 100% of   79.78MiB in 00:00:03 at 23.20MiB/s    \n",
      "[ExtractAudio] Destination: C:\\Users\\waral\\Desktop\\fyp\\MM-ArgFallacy2025\\data\\MMUSED\\files\\debates_audio_recordings\\15_1988\\full_audio.wav\n",
      "Deleting original file C:\\Users\\waral\\Desktop\\fyp\\MM-ArgFallacy2025\\data\\MMUSED\\files\\debates_audio_recordings\\15_1988\\full_audio (pass -k to keep)\n"
     ]
    },
    {
     "name": "stderr",
     "output_type": "stream",
     "text": [
      " 89%|████████▉ | 34/38 [09:09<01:06, 16.72s/it]"
     ]
    },
    {
     "name": "stdout",
     "output_type": "stream",
     "text": [
      "[youtube] Extracting URL: https://www.youtube.com/watch?v=eg7-QJrJZV0 \n",
      "[youtube] eg7-QJrJZV0: Downloading webpage\n",
      "[youtube] eg7-QJrJZV0: Downloading tv client config\n",
      "[youtube] eg7-QJrJZV0: Downloading player 74e4bb46\n",
      "[youtube] eg7-QJrJZV0: Downloading tv player API JSON\n",
      "[youtube] eg7-QJrJZV0: Downloading ios player API JSON\n",
      "[youtube] eg7-QJrJZV0: Downloading m3u8 information\n",
      "[info] eg7-QJrJZV0: Downloading 1 format(s): 251\n",
      "[download] Destination: C:\\Users\\waral\\Desktop\\fyp\\MM-ArgFallacy2025\\data\\MMUSED\\files\\debates_audio_recordings\\20_1992\\full_audio\n",
      "[download] 100% of   65.37MiB in 00:00:02 at 22.73MiB/s    \n",
      "[ExtractAudio] Destination: C:\\Users\\waral\\Desktop\\fyp\\MM-ArgFallacy2025\\data\\MMUSED\\files\\debates_audio_recordings\\20_1992\\full_audio.wav\n",
      "Deleting original file C:\\Users\\waral\\Desktop\\fyp\\MM-ArgFallacy2025\\data\\MMUSED\\files\\debates_audio_recordings\\20_1992\\full_audio (pass -k to keep)\n"
     ]
    },
    {
     "name": "stderr",
     "output_type": "stream",
     "text": [
      " 92%|█████████▏| 35/38 [09:23<00:48, 16.01s/it]"
     ]
    },
    {
     "name": "stdout",
     "output_type": "stream",
     "text": [
      "[youtube] Extracting URL: https://www.youtube.com/watch?v=OHjWb5XsAMI\n",
      "[youtube] OHjWb5XsAMI: Downloading webpage\n",
      "[youtube] OHjWb5XsAMI: Downloading tv client config\n",
      "[youtube] OHjWb5XsAMI: Downloading player 74e4bb46\n",
      "[youtube] OHjWb5XsAMI: Downloading tv player API JSON\n",
      "[youtube] OHjWb5XsAMI: Downloading ios player API JSON\n",
      "[youtube] OHjWb5XsAMI: Downloading m3u8 information\n",
      "[info] OHjWb5XsAMI: Downloading 1 format(s): 251\n",
      "[download] Destination: C:\\Users\\waral\\Desktop\\fyp\\MM-ArgFallacy2025\\data\\MMUSED\\files\\debates_audio_recordings\\3_1960\\full_audio\n",
      "[download] 100% of   42.84MiB in 00:00:05 at 8.56MiB/s     \n",
      "[ExtractAudio] Destination: C:\\Users\\waral\\Desktop\\fyp\\MM-ArgFallacy2025\\data\\MMUSED\\files\\debates_audio_recordings\\3_1960\\full_audio.wav\n",
      "Deleting original file C:\\Users\\waral\\Desktop\\fyp\\MM-ArgFallacy2025\\data\\MMUSED\\files\\debates_audio_recordings\\3_1960\\full_audio (pass -k to keep)\n"
     ]
    },
    {
     "name": "stderr",
     "output_type": "stream",
     "text": [
      " 95%|█████████▍| 36/38 [09:37<00:30, 15.34s/it]"
     ]
    },
    {
     "name": "stdout",
     "output_type": "stream",
     "text": [
      "[youtube] Extracting URL: https://www.youtube.com/watch?v=VMUsWsygJJM\n",
      "[youtube] VMUsWsygJJM: Downloading webpage\n",
      "[youtube] VMUsWsygJJM: Downloading tv client config\n",
      "[youtube] VMUsWsygJJM: Downloading player 74e4bb46\n",
      "[youtube] VMUsWsygJJM: Downloading tv player API JSON\n",
      "[youtube] VMUsWsygJJM: Downloading ios player API JSON\n",
      "[youtube] VMUsWsygJJM: Downloading m3u8 information\n",
      "[info] VMUsWsygJJM: Downloading 1 format(s): 251\n",
      "[download] Destination: C:\\Users\\waral\\Desktop\\fyp\\MM-ArgFallacy2025\\data\\MMUSED\\files\\debates_audio_recordings\\11_1984\\full_audio\n",
      "[download] 100% of   66.58MiB in 00:00:02 at 23.25MiB/s    \n",
      "[ExtractAudio] Destination: C:\\Users\\waral\\Desktop\\fyp\\MM-ArgFallacy2025\\data\\MMUSED\\files\\debates_audio_recordings\\11_1984\\full_audio.wav\n",
      "Deleting original file C:\\Users\\waral\\Desktop\\fyp\\MM-ArgFallacy2025\\data\\MMUSED\\files\\debates_audio_recordings\\11_1984\\full_audio (pass -k to keep)\n"
     ]
    },
    {
     "name": "stderr",
     "output_type": "stream",
     "text": [
      " 97%|█████████▋| 37/38 [09:53<00:15, 15.70s/it]"
     ]
    },
    {
     "name": "stdout",
     "output_type": "stream",
     "text": [
      "[youtube] Extracting URL: https://www.youtube.com/watch?v=cKcav-uF4eY\n",
      "[youtube] cKcav-uF4eY: Downloading webpage\n",
      "[youtube] cKcav-uF4eY: Downloading tv client config\n",
      "[youtube] cKcav-uF4eY: Downloading player 74e4bb46\n",
      "[youtube] cKcav-uF4eY: Downloading tv player API JSON\n",
      "[youtube] cKcav-uF4eY: Downloading ios player API JSON\n",
      "[youtube] cKcav-uF4eY: Downloading m3u8 information\n",
      "[info] cKcav-uF4eY: Downloading 1 format(s): 251\n",
      "[download] Destination: C:\\Users\\waral\\Desktop\\fyp\\MM-ArgFallacy2025\\data\\MMUSED\\files\\debates_audio_recordings\\31_2004\\full_audio\n",
      "[download] 100% of   74.29MiB in 00:00:02 at 25.13MiB/s    \n",
      "[ExtractAudio] Destination: C:\\Users\\waral\\Desktop\\fyp\\MM-ArgFallacy2025\\data\\MMUSED\\files\\debates_audio_recordings\\31_2004\\full_audio.wav\n",
      "Deleting original file C:\\Users\\waral\\Desktop\\fyp\\MM-ArgFallacy2025\\data\\MMUSED\\files\\debates_audio_recordings\\31_2004\\full_audio (pass -k to keep)\n"
     ]
    },
    {
     "name": "stderr",
     "output_type": "stream",
     "text": [
      "100%|██████████| 38/38 [10:15<00:00, 16.19s/it]\n",
      "Trimming audio files...: 100%|██████████| 38/38 [05:14<00:00,  8.28s/it]\n",
      "Generating audio chunks...: 100%|██████████| 38/38 [06:53<00:00, 10.88s/it]\n",
      "Generating clips...: 100%|██████████| 38/38 [08:04<00:00, 12.74s/it]\n"
     ]
    }
   ],
   "source": [
    "mm_used_loader = MMUSED(\n",
    "    task_name='asd',  # Choose between 'asd' (argumentative sentence detection) or 'acc' (argumentative component classification)\n",
    "    input_mode=InputMode.TEXT_AUDIO,\n",
    "    base_data_path=base_data_path\n",
    ")\n"
   ]
  },
  {
   "cell_type": "markdown",
   "metadata": {},
   "source": [
    "# UKDebates Dataset:"
   ]
  },
  {
   "cell_type": "code",
   "execution_count": 22,
   "metadata": {},
   "outputs": [
    {
     "name": "stderr",
     "output_type": "stream",
     "text": [
      "Downloading: http://argumentationmining.disi.unibo.it/dataset_aaai2016.tgz: 100%|██████████| 357M/357M [00:38<00:00, 9.71MB/s] \n"
     ]
    }
   ],
   "source": [
    "uk_debates_loader = UKDebates(\n",
    "    task_name='asd',\n",
    "    input_mode=InputMode.TEXT_AUDIO,\n",
    "    base_data_path=base_data_path\n",
    ")\n"
   ]
  },
  {
   "cell_type": "markdown",
   "metadata": {},
   "source": [
    "# M-Arg Dataset:\n",
    "\n"
   ]
  },
  {
   "cell_type": "code",
   "execution_count": null,
   "metadata": {},
   "outputs": [
    {
     "ename": "LookupError",
     "evalue": "\n**********************************************************************\n  Resource \u001b[93mpunkt_tab\u001b[0m not found.\n  Please use the NLTK Downloader to obtain the resource:\n\n  \u001b[31m>>> import nltk\n  >>> nltk.download('punkt_tab')\n  \u001b[0m\n  For more information see: https://www.nltk.org/data.html\n\n  Attempted to load \u001b[93mtokenizers/punkt_tab/english/\u001b[0m\n\n  Searched in:\n    - 'C:\\\\Users\\\\waral/nltk_data'\n    - 'c:\\\\Users\\\\waral\\\\AppData\\\\Local\\\\Programs\\\\Python\\\\Python312\\\\nltk_data'\n    - 'c:\\\\Users\\\\waral\\\\AppData\\\\Local\\\\Programs\\\\Python\\\\Python312\\\\share\\\\nltk_data'\n    - 'c:\\\\Users\\\\waral\\\\AppData\\\\Local\\\\Programs\\\\Python\\\\Python312\\\\lib\\\\nltk_data'\n    - 'C:\\\\Users\\\\waral\\\\AppData\\\\Roaming\\\\nltk_data'\n    - 'C:\\\\nltk_data'\n    - 'D:\\\\nltk_data'\n    - 'E:\\\\nltk_data'\n**********************************************************************\n",
     "output_type": "error",
     "traceback": [
      "\u001b[1;31m---------------------------------------------------------------------------\u001b[0m",
      "\u001b[1;31mLookupError\u001b[0m                               Traceback (most recent call last)",
      "Cell \u001b[1;32mIn[49], line 6\u001b[0m\n\u001b[0;32m      2\u001b[0m \u001b[38;5;28;01mfrom\u001b[39;00m \u001b[38;5;21;01mmamkit\u001b[39;00m\u001b[38;5;21;01m.\u001b[39;00m\u001b[38;5;21;01mdata\u001b[39;00m\u001b[38;5;21;01m.\u001b[39;00m\u001b[38;5;21;01mdatasets\u001b[39;00m \u001b[38;5;28;01mimport\u001b[39;00m MArg\n\u001b[0;32m      5\u001b[0m \u001b[38;5;66;03m# Initialize MAM-ArgFallacy dataset with correct confidence parameter\u001b[39;00m\n\u001b[1;32m----> 6\u001b[0m dataset \u001b[38;5;241m=\u001b[39m \u001b[43mMArg\u001b[49m\u001b[43m(\u001b[49m\n\u001b[0;32m      7\u001b[0m \u001b[43m    \u001b[49m\u001b[43mtask_name\u001b[49m\u001b[38;5;241;43m=\u001b[39;49m\u001b[38;5;124;43m\"\u001b[39;49m\u001b[38;5;124;43marc\u001b[39;49m\u001b[38;5;124;43m\"\u001b[39;49m\u001b[43m,\u001b[49m\u001b[43m  \u001b[49m\u001b[38;5;66;43;03m# Argumentative relation classification\u001b[39;49;00m\n\u001b[0;32m      8\u001b[0m \u001b[43m    \u001b[49m\u001b[43minput_mode\u001b[49m\u001b[38;5;241;43m=\u001b[39;49m\u001b[43mInputMode\u001b[49m\u001b[38;5;241;43m.\u001b[39;49m\u001b[43mTEXT_AUDIO\u001b[49m\u001b[43m,\u001b[49m\u001b[43m  \u001b[49m\u001b[38;5;66;43;03m# Using multimodal (text + audio)\u001b[39;49;00m\n\u001b[0;32m      9\u001b[0m \u001b[43m    \u001b[49m\u001b[43mbase_data_path\u001b[49m\u001b[38;5;241;43m=\u001b[39;49m\u001b[43mbase_data_path\u001b[49m\u001b[43m,\u001b[49m\n\u001b[0;32m     10\u001b[0m \u001b[43m    \u001b[49m\u001b[43mconfidence\u001b[49m\u001b[38;5;241;43m=\u001b[39;49m\u001b[38;5;241;43m1.0\u001b[39;49m\u001b[43m  \u001b[49m\n\u001b[0;32m     11\u001b[0m \u001b[43m)\u001b[49m\n\u001b[0;32m     13\u001b[0m \u001b[38;5;66;03m# Load dataset\u001b[39;00m\n\u001b[0;32m     14\u001b[0m dataset\u001b[38;5;241m.\u001b[39mload_data()\n",
      "File \u001b[1;32mc:\\Users\\waral\\AppData\\Local\\Programs\\Python\\Python312\\Lib\\site-packages\\mamkit\\data\\datasets.py:1399\u001b[0m, in \u001b[0;36mMArg.__init__\u001b[1;34m(self, confidence, **kwargs)\u001b[0m\n\u001b[0;32m   1396\u001b[0m \u001b[38;5;28mself\u001b[39m\u001b[38;5;241m.\u001b[39mdata_path\u001b[38;5;241m.\u001b[39mmkdir(parents\u001b[38;5;241m=\u001b[39m\u001b[38;5;28;01mTrue\u001b[39;00m, exist_ok\u001b[38;5;241m=\u001b[39m\u001b[38;5;28;01mTrue\u001b[39;00m)\n\u001b[0;32m   1398\u001b[0m \u001b[38;5;28;01mif\u001b[39;00m \u001b[38;5;129;01mnot\u001b[39;00m \u001b[38;5;28mself\u001b[39m\u001b[38;5;241m.\u001b[39mfinal_path\u001b[38;5;241m.\u001b[39mexists():\n\u001b[1;32m-> 1399\u001b[0m     \u001b[38;5;28;43mself\u001b[39;49m\u001b[38;5;241;43m.\u001b[39;49m\u001b[43mbuild\u001b[49m\u001b[43m(\u001b[49m\u001b[43m)\u001b[49m\n\u001b[0;32m   1401\u001b[0m \u001b[38;5;28mself\u001b[39m\u001b[38;5;241m.\u001b[39madd_splits(method\u001b[38;5;241m=\u001b[39m\u001b[38;5;28mself\u001b[39m\u001b[38;5;241m.\u001b[39mget_mancini_2022_splits,\n\u001b[0;32m   1402\u001b[0m                 key\u001b[38;5;241m=\u001b[39m\u001b[38;5;124m'\u001b[39m\u001b[38;5;124mmancini-et-al-2022\u001b[39m\u001b[38;5;124m'\u001b[39m)\n",
      "File \u001b[1;32mc:\\Users\\waral\\AppData\\Local\\Programs\\Python\\Python312\\Lib\\site-packages\\mamkit\\data\\datasets.py:1581\u001b[0m, in \u001b[0;36mMArg.build\u001b[1;34m(self)\u001b[0m\n\u001b[0;32m   1578\u001b[0m     shutil\u001b[38;5;241m.\u001b[39mrmtree(source_path)\n\u001b[0;32m   1580\u001b[0m logging\u001b[38;5;241m.\u001b[39minfo(\u001b[38;5;124m'\u001b[39m\u001b[38;5;124mBuilding M-Arg dataset...\u001b[39m\u001b[38;5;124m'\u001b[39m)\n\u001b[1;32m-> 1581\u001b[0m \u001b[38;5;28;43mself\u001b[39;49m\u001b[38;5;241;43m.\u001b[39;49m\u001b[43mbuild_chunks\u001b[49m\u001b[43m(\u001b[49m\u001b[43m)\u001b[49m\n\u001b[0;32m   1582\u001b[0m feature_df \u001b[38;5;241m=\u001b[39m pd\u001b[38;5;241m.\u001b[39mread_csv(\u001b[38;5;28mself\u001b[39m\u001b[38;5;241m.\u001b[39mfeature_path)\n\u001b[0;32m   1583\u001b[0m aggregated_df \u001b[38;5;241m=\u001b[39m pd\u001b[38;5;241m.\u001b[39mread_csv(\u001b[38;5;28mself\u001b[39m\u001b[38;5;241m.\u001b[39maggregated_path)\n",
      "File \u001b[1;32mc:\\Users\\waral\\AppData\\Local\\Programs\\Python\\Python312\\Lib\\site-packages\\mamkit\\data\\datasets.py:1468\u001b[0m, in \u001b[0;36mMArg.build_chunks\u001b[1;34m(self)\u001b[0m\n\u001b[0;32m   1462\u001b[0m df \u001b[38;5;241m=\u001b[39m pd\u001b[38;5;241m.\u001b[39mread_csv(filepath,\n\u001b[0;32m   1463\u001b[0m                  header\u001b[38;5;241m=\u001b[39m\u001b[38;5;241m0\u001b[39m,\n\u001b[0;32m   1464\u001b[0m                  names\u001b[38;5;241m=\u001b[39m[\u001b[38;5;124m'\u001b[39m\u001b[38;5;124mspeaker\u001b[39m\u001b[38;5;124m'\u001b[39m, \u001b[38;5;124m'\u001b[39m\u001b[38;5;124mminute\u001b[39m\u001b[38;5;124m'\u001b[39m, \u001b[38;5;124m'\u001b[39m\u001b[38;5;124mtext\u001b[39m\u001b[38;5;124m'\u001b[39m])\n\u001b[0;32m   1466\u001b[0m \u001b[38;5;28;01mfor\u001b[39;00m r \u001b[38;5;129;01min\u001b[39;00m df\u001b[38;5;241m.\u001b[39mindex:\n\u001b[0;32m   1467\u001b[0m     \u001b[38;5;66;03m# Tokenised text\u001b[39;00m\n\u001b[1;32m-> 1468\u001b[0m     split_text \u001b[38;5;241m=\u001b[39m \u001b[43msent_tokenize\u001b[49m\u001b[43m(\u001b[49m\u001b[43mdf\u001b[49m\u001b[43m[\u001b[49m\u001b[38;5;124;43m'\u001b[39;49m\u001b[38;5;124;43mtext\u001b[39;49m\u001b[38;5;124;43m'\u001b[39;49m\u001b[43m]\u001b[49m\u001b[38;5;241;43m.\u001b[39;49m\u001b[43miloc\u001b[49m\u001b[43m[\u001b[49m\u001b[43mr\u001b[49m\u001b[43m]\u001b[49m\u001b[43m)\u001b[49m\n\u001b[0;32m   1469\u001b[0m     text \u001b[38;5;241m+\u001b[39m\u001b[38;5;241m=\u001b[39m split_text\n\u001b[0;32m   1470\u001b[0m     \u001b[38;5;66;03m# Match speakers to their names using the dictionary above\u001b[39;00m\n",
      "File \u001b[1;32mc:\\Users\\waral\\AppData\\Local\\Programs\\Python\\Python312\\Lib\\site-packages\\nltk\\tokenize\\__init__.py:119\u001b[0m, in \u001b[0;36msent_tokenize\u001b[1;34m(text, language)\u001b[0m\n\u001b[0;32m    109\u001b[0m \u001b[38;5;28;01mdef\u001b[39;00m \u001b[38;5;21msent_tokenize\u001b[39m(text, language\u001b[38;5;241m=\u001b[39m\u001b[38;5;124m\"\u001b[39m\u001b[38;5;124menglish\u001b[39m\u001b[38;5;124m\"\u001b[39m):\n\u001b[0;32m    110\u001b[0m \u001b[38;5;250m    \u001b[39m\u001b[38;5;124;03m\"\"\"\u001b[39;00m\n\u001b[0;32m    111\u001b[0m \u001b[38;5;124;03m    Return a sentence-tokenized copy of *text*,\u001b[39;00m\n\u001b[0;32m    112\u001b[0m \u001b[38;5;124;03m    using NLTK's recommended sentence tokenizer\u001b[39;00m\n\u001b[1;32m   (...)\u001b[0m\n\u001b[0;32m    117\u001b[0m \u001b[38;5;124;03m    :param language: the model name in the Punkt corpus\u001b[39;00m\n\u001b[0;32m    118\u001b[0m \u001b[38;5;124;03m    \"\"\"\u001b[39;00m\n\u001b[1;32m--> 119\u001b[0m     tokenizer \u001b[38;5;241m=\u001b[39m \u001b[43m_get_punkt_tokenizer\u001b[49m\u001b[43m(\u001b[49m\u001b[43mlanguage\u001b[49m\u001b[43m)\u001b[49m\n\u001b[0;32m    120\u001b[0m     \u001b[38;5;28;01mreturn\u001b[39;00m tokenizer\u001b[38;5;241m.\u001b[39mtokenize(text)\n",
      "File \u001b[1;32mc:\\Users\\waral\\AppData\\Local\\Programs\\Python\\Python312\\Lib\\site-packages\\nltk\\tokenize\\__init__.py:105\u001b[0m, in \u001b[0;36m_get_punkt_tokenizer\u001b[1;34m(language)\u001b[0m\n\u001b[0;32m     96\u001b[0m \u001b[38;5;129m@functools\u001b[39m\u001b[38;5;241m.\u001b[39mlru_cache\n\u001b[0;32m     97\u001b[0m \u001b[38;5;28;01mdef\u001b[39;00m \u001b[38;5;21m_get_punkt_tokenizer\u001b[39m(language\u001b[38;5;241m=\u001b[39m\u001b[38;5;124m\"\u001b[39m\u001b[38;5;124menglish\u001b[39m\u001b[38;5;124m\"\u001b[39m):\n\u001b[0;32m     98\u001b[0m \u001b[38;5;250m    \u001b[39m\u001b[38;5;124;03m\"\"\"\u001b[39;00m\n\u001b[0;32m     99\u001b[0m \u001b[38;5;124;03m    A constructor for the PunktTokenizer that utilizes\u001b[39;00m\n\u001b[0;32m    100\u001b[0m \u001b[38;5;124;03m    a lru cache for performance.\u001b[39;00m\n\u001b[1;32m   (...)\u001b[0m\n\u001b[0;32m    103\u001b[0m \u001b[38;5;124;03m    :type language: str\u001b[39;00m\n\u001b[0;32m    104\u001b[0m \u001b[38;5;124;03m    \"\"\"\u001b[39;00m\n\u001b[1;32m--> 105\u001b[0m     \u001b[38;5;28;01mreturn\u001b[39;00m \u001b[43mPunktTokenizer\u001b[49m\u001b[43m(\u001b[49m\u001b[43mlanguage\u001b[49m\u001b[43m)\u001b[49m\n",
      "File \u001b[1;32mc:\\Users\\waral\\AppData\\Local\\Programs\\Python\\Python312\\Lib\\site-packages\\nltk\\tokenize\\punkt.py:1744\u001b[0m, in \u001b[0;36mPunktTokenizer.__init__\u001b[1;34m(self, lang)\u001b[0m\n\u001b[0;32m   1742\u001b[0m \u001b[38;5;28;01mdef\u001b[39;00m \u001b[38;5;21m__init__\u001b[39m(\u001b[38;5;28mself\u001b[39m, lang\u001b[38;5;241m=\u001b[39m\u001b[38;5;124m\"\u001b[39m\u001b[38;5;124menglish\u001b[39m\u001b[38;5;124m\"\u001b[39m):\n\u001b[0;32m   1743\u001b[0m     PunktSentenceTokenizer\u001b[38;5;241m.\u001b[39m\u001b[38;5;21m__init__\u001b[39m(\u001b[38;5;28mself\u001b[39m)\n\u001b[1;32m-> 1744\u001b[0m     \u001b[38;5;28;43mself\u001b[39;49m\u001b[38;5;241;43m.\u001b[39;49m\u001b[43mload_lang\u001b[49m\u001b[43m(\u001b[49m\u001b[43mlang\u001b[49m\u001b[43m)\u001b[49m\n",
      "File \u001b[1;32mc:\\Users\\waral\\AppData\\Local\\Programs\\Python\\Python312\\Lib\\site-packages\\nltk\\tokenize\\punkt.py:1749\u001b[0m, in \u001b[0;36mPunktTokenizer.load_lang\u001b[1;34m(self, lang)\u001b[0m\n\u001b[0;32m   1746\u001b[0m \u001b[38;5;28;01mdef\u001b[39;00m \u001b[38;5;21mload_lang\u001b[39m(\u001b[38;5;28mself\u001b[39m, lang\u001b[38;5;241m=\u001b[39m\u001b[38;5;124m\"\u001b[39m\u001b[38;5;124menglish\u001b[39m\u001b[38;5;124m\"\u001b[39m):\n\u001b[0;32m   1747\u001b[0m     \u001b[38;5;28;01mfrom\u001b[39;00m \u001b[38;5;21;01mnltk\u001b[39;00m\u001b[38;5;21;01m.\u001b[39;00m\u001b[38;5;21;01mdata\u001b[39;00m \u001b[38;5;28;01mimport\u001b[39;00m find\n\u001b[1;32m-> 1749\u001b[0m     lang_dir \u001b[38;5;241m=\u001b[39m \u001b[43mfind\u001b[49m\u001b[43m(\u001b[49m\u001b[38;5;124;43mf\u001b[39;49m\u001b[38;5;124;43m\"\u001b[39;49m\u001b[38;5;124;43mtokenizers/punkt_tab/\u001b[39;49m\u001b[38;5;132;43;01m{\u001b[39;49;00m\u001b[43mlang\u001b[49m\u001b[38;5;132;43;01m}\u001b[39;49;00m\u001b[38;5;124;43m/\u001b[39;49m\u001b[38;5;124;43m\"\u001b[39;49m\u001b[43m)\u001b[49m\n\u001b[0;32m   1750\u001b[0m     \u001b[38;5;28mself\u001b[39m\u001b[38;5;241m.\u001b[39m_params \u001b[38;5;241m=\u001b[39m load_punkt_params(lang_dir)\n\u001b[0;32m   1751\u001b[0m     \u001b[38;5;28mself\u001b[39m\u001b[38;5;241m.\u001b[39m_lang \u001b[38;5;241m=\u001b[39m lang\n",
      "File \u001b[1;32mc:\\Users\\waral\\AppData\\Local\\Programs\\Python\\Python312\\Lib\\site-packages\\nltk\\data.py:579\u001b[0m, in \u001b[0;36mfind\u001b[1;34m(resource_name, paths)\u001b[0m\n\u001b[0;32m    577\u001b[0m sep \u001b[38;5;241m=\u001b[39m \u001b[38;5;124m\"\u001b[39m\u001b[38;5;124m*\u001b[39m\u001b[38;5;124m\"\u001b[39m \u001b[38;5;241m*\u001b[39m \u001b[38;5;241m70\u001b[39m\n\u001b[0;32m    578\u001b[0m resource_not_found \u001b[38;5;241m=\u001b[39m \u001b[38;5;124mf\u001b[39m\u001b[38;5;124m\"\u001b[39m\u001b[38;5;130;01m\\n\u001b[39;00m\u001b[38;5;132;01m{\u001b[39;00msep\u001b[38;5;132;01m}\u001b[39;00m\u001b[38;5;130;01m\\n\u001b[39;00m\u001b[38;5;132;01m{\u001b[39;00mmsg\u001b[38;5;132;01m}\u001b[39;00m\u001b[38;5;130;01m\\n\u001b[39;00m\u001b[38;5;132;01m{\u001b[39;00msep\u001b[38;5;132;01m}\u001b[39;00m\u001b[38;5;130;01m\\n\u001b[39;00m\u001b[38;5;124m\"\u001b[39m\n\u001b[1;32m--> 579\u001b[0m \u001b[38;5;28;01mraise\u001b[39;00m \u001b[38;5;167;01mLookupError\u001b[39;00m(resource_not_found)\n",
      "\u001b[1;31mLookupError\u001b[0m: \n**********************************************************************\n  Resource \u001b[93mpunkt_tab\u001b[0m not found.\n  Please use the NLTK Downloader to obtain the resource:\n\n  \u001b[31m>>> import nltk\n  >>> nltk.download('punkt_tab')\n  \u001b[0m\n  For more information see: https://www.nltk.org/data.html\n\n  Attempted to load \u001b[93mtokenizers/punkt_tab/english/\u001b[0m\n\n  Searched in:\n    - 'C:\\\\Users\\\\waral/nltk_data'\n    - 'c:\\\\Users\\\\waral\\\\AppData\\\\Local\\\\Programs\\\\Python\\\\Python312\\\\nltk_data'\n    - 'c:\\\\Users\\\\waral\\\\AppData\\\\Local\\\\Programs\\\\Python\\\\Python312\\\\share\\\\nltk_data'\n    - 'c:\\\\Users\\\\waral\\\\AppData\\\\Local\\\\Programs\\\\Python\\\\Python312\\\\lib\\\\nltk_data'\n    - 'C:\\\\Users\\\\waral\\\\AppData\\\\Roaming\\\\nltk_data'\n    - 'C:\\\\nltk_data'\n    - 'D:\\\\nltk_data'\n    - 'E:\\\\nltk_data'\n**********************************************************************\n"
     ]
    }
   ],
   "source": [
    "m_arg_loader = MArg(\n",
    "        task_name='arc',\n",
    "        input_mode=InputMode.TEXT_AUDIO, # Choose between TEXT_ONLY, AUDIO_ONLY, or TEXT_AUDIO\n",
    "        base_data_path=base_data_path\n",
    "        confidence=1.0\n",
    ")"
   ]
  }
 ],
 "metadata": {
  "kernelspec": {
   "display_name": "Python 3",
   "language": "python",
   "name": "python3"
  },
  "language_info": {
   "codemirror_mode": {
    "name": "ipython",
    "version": 3
   },
   "file_extension": ".py",
   "mimetype": "text/x-python",
   "name": "python",
   "nbconvert_exporter": "python",
   "pygments_lexer": "ipython3",
   "version": "3.12.8"
  }
 },
 "nbformat": 4,
 "nbformat_minor": 2
}
