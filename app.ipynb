{
 "cells": [
  {
   "cell_type": "code",
   "execution_count": null,
   "metadata": {},
   "outputs": [],
   "source": [
    "import mamkit\n",
    "import simplejson\n",
    "import nltk\n",
    "import pydub\n",
    "import yt_dlp\n",
    "import imageio_ffmpeg as ffmpeg\n",
    "from ffprobe import FFProbe"
   ]
  },
  {
   "cell_type": "code",
   "execution_count": 2,
   "metadata": {},
   "outputs": [
    {
     "name": "stdout",
     "output_type": "stream",
     "text": [
      "['__all__', '__builtins__', '__cached__', '__doc__', '__file__', '__loader__', '__name__', '__package__', '__path__', '__spec__', '__version__', 'digit_version', 'parse', 'version', 'warnings']\n"
     ]
    }
   ],
   "source": [
    "print(dir(mamkit))"
   ]
  },
  {
   "cell_type": "code",
   "execution_count": 3,
   "metadata": {},
   "outputs": [
    {
     "name": "stdout",
     "output_type": "stream",
     "text": [
      "Help on package mamkit:\n",
      "\n",
      "NAME\n",
      "    mamkit\n",
      "\n",
      "PACKAGE CONTENTS\n",
      "    configs (package)\n",
      "    data (package)\n",
      "    models (package)\n",
      "    modules (package)\n",
      "    utility (package)\n",
      "    version\n",
      "\n",
      "FUNCTIONS\n",
      "    digit_version(version_str: str, length: int = 4)\n",
      "        Convert a version string into a tuple of integers.\n",
      "\n",
      "        This method is usually used for comparing two versions. For pre-release\n",
      "        versions: alpha < beta < rc.\n",
      "\n",
      "        Args:\n",
      "            version_str (str): The version string.\n",
      "            length (int): The maximum number of version levels. Default: 4.\n",
      "\n",
      "        Returns:\n",
      "            tuple[int]: The version info in digits (integers).\n",
      "\n",
      "DATA\n",
      "    __all__ = ['__version__', 'digit_version']\n",
      "\n",
      "VERSION\n",
      "    1.0.0\n",
      "\n",
      "FILE\n",
      "    c:\\users\\waral\\appdata\\local\\programs\\python\\python312\\lib\\site-packages\\mamkit\\__init__.py\n",
      "\n",
      "\n"
     ]
    }
   ],
   "source": [
    "help(mamkit)\n"
   ]
  },
  {
   "cell_type": "code",
   "execution_count": 4,
   "metadata": {},
   "outputs": [
    {
     "name": "stdout",
     "output_type": "stream",
     "text": [
      "configs\n",
      "data\n",
      "models\n",
      "modules\n",
      "utility\n",
      "version\n"
     ]
    }
   ],
   "source": [
    "import pkgutil\n",
    "\n",
    "for module in pkgutil.iter_modules(mamkit.__path__):\n",
    "    print(module.name)\n"
   ]
  },
  {
   "cell_type": "code",
   "execution_count": 10,
   "metadata": {},
   "outputs": [
    {
     "name": "stdout",
     "output_type": "stream",
     "text": [
      "['__builtins__', '__cached__', '__doc__', '__file__', '__loader__', '__name__', '__package__', '__path__', '__spec__']\n"
     ]
    }
   ],
   "source": [
    "import mamkit.models as models\n",
    "\n",
    "print(dir(models))"
   ]
  },
  {
   "cell_type": "code",
   "execution_count": 27,
   "metadata": {},
   "outputs": [
    {
     "name": "stdout",
     "output_type": "stream",
     "text": [
      "['AudioSegment', 'Callable', 'Counter', 'Dataset', 'Dict', 'Enum', 'InputMode', 'List', 'Loader', 'MAMDataset', 'MArg', 'MMUSED', 'MMUSEDFallacy', 'MultimodalDataset', 'Optional', 'PairMultimodalDataset', 'PairUnimodalDataset', 'Path', 'SplitInfo', 'UKDebates', 'UnimodalDataset', 'Union', '__builtins__', '__cached__', '__doc__', '__file__', '__loader__', '__name__', '__package__', '__spec__', 'abc', 'copy_tree', 'dataclass', 'download', 'logging', 'np', 'os', 'partial', 'pd', 'sent_tokenize', 'shutil', 'sj', 'tarfile', 'tqdm', 'youtube_download', 'zipfile']\n"
     ]
    }
   ],
   "source": [
    "print(dir(mamkit.data.datasets))"
   ]
  },
  {
   "cell_type": "code",
   "execution_count": 28,
   "metadata": {},
   "outputs": [
    {
     "name": "stdout",
     "output_type": "stream",
     "text": [
      "['__builtins__', '__cached__', '__doc__', '__file__', '__loader__', '__name__', '__package__', '__path__', '__spec__']\n"
     ]
    }
   ],
   "source": [
    "import mamkit.configs\n",
    "print(dir(mamkit.configs))\n"
   ]
  },
  {
   "cell_type": "code",
   "execution_count": 29,
   "metadata": {},
   "outputs": [
    {
     "name": "stderr",
     "output_type": "stream",
     "text": [
      "Downloading: http://argumentationmining.disi.unibo.it/dataset_aaai2016.tgz: 100%|██████████| 357M/357M [10:23<00:00, 600kB/s]    \n",
      "Downloading: https://raw.githubusercontent.com/lt-nlp-lab-unibo/multimodal-am/main/deasy-speech/prebuilt_folds/aaai2016_all_folds.json: 100%|██████████| 3.32k/3.32k [00:00<00:00, 3.57MB/s]\n"
     ]
    }
   ],
   "source": [
    "from mamkit.data.datasets import UKDebates, InputMode\n",
    "\n",
    "loader = UKDebates(\n",
    "          task_name='asd',\n",
    "          input_mode=InputMode.TEXT_ONLY,\n",
    "          base_data_path=\"/path\")\n",
    "\n",
    "\n",
    "split_info = loader.get_splits('mancini-et-al-2022')"
   ]
  }
 ],
 "metadata": {
  "kernelspec": {
   "display_name": "Python 3",
   "language": "python",
   "name": "python3"
  },
  "language_info": {
   "codemirror_mode": {
    "name": "ipython",
    "version": 3
   },
   "file_extension": ".py",
   "mimetype": "text/x-python",
   "name": "python",
   "nbconvert_exporter": "python",
   "pygments_lexer": "ipython3",
   "version": "3.12.8"
  }
 },
 "nbformat": 4,
 "nbformat_minor": 2
}
